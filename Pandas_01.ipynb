{
 "cells": [
  {
   "cell_type": "code",
   "execution_count": null,
   "id": "e35235bd-5ea2-47e0-b080-c0aa99858592",
   "metadata": {},
   "outputs": [],
   "source": []
  },
  {
   "cell_type": "code",
   "execution_count": 1,
   "id": "b458137e-f562-4f58-9af8-1a3b57ac3583",
   "metadata": {},
   "outputs": [],
   "source": [
    "import numpy as np \n",
    "import pandas as pd "
   ]
  },
  {
   "cell_type": "code",
   "execution_count": 2,
   "id": "bee3fffa-e5a8-4b83-858e-95b46e67999d",
   "metadata": {},
   "outputs": [
    {
     "data": {
      "text/plain": [
       "0    Bangladesh\n",
       "1        Russia\n",
       "2         China\n",
       "3    Afganistan\n",
       "dtype: object"
      ]
     },
     "execution_count": 2,
     "metadata": {},
     "output_type": "execute_result"
    }
   ],
   "source": [
    "# using list creating \n",
    "countries = ['Bangladesh','Russia','China', 'Afganistan']\n",
    "pd.Series(countries)"
   ]
  },
  {
   "cell_type": "code",
   "execution_count": 3,
   "id": "e1f8c61b-6382-4dc6-8aaa-f89a5c30bc69",
   "metadata": {},
   "outputs": [
    {
     "data": {
      "text/plain": [
       "0       10\n",
       "1       32\n",
       "2       65\n",
       "3      685\n",
       "4    65654\n",
       "5    54431\n",
       "dtype: int64"
      ]
     },
     "execution_count": 3,
     "metadata": {},
     "output_type": "execute_result"
    }
   ],
   "source": [
    "# using integers \n",
    "accounts_num = [10,32,65,685,65654,54431]\n",
    "pd.Series(accounts_num)\n"
   ]
  },
  {
   "cell_type": "code",
   "execution_count": 4,
   "id": "d2537ec8-e57f-4666-a143-5aa46dba90cc",
   "metadata": {},
   "outputs": [
    {
     "data": {
      "text/plain": [
       "ML                   80\n",
       "DBMS                 52\n",
       "Computer Networks    65\n",
       "OS                   89\n",
       "NLP                  45\n",
       "dtype: int64"
      ]
     },
     "execution_count": 4,
     "metadata": {},
     "output_type": "execute_result"
    }
   ],
   "source": [
    "# Custom Index\n",
    "marks = [80,52,65,89,45]\n",
    "subjects = ['ML','DBMS','Computer Networks','OS','NLP']\n",
    "pd.Series(marks, index=subjects)"
   ]
  },
  {
   "cell_type": "code",
   "execution_count": 5,
   "id": "d4b6cd30-e23d-44d6-bbf8-7cd8beed031f",
   "metadata": {},
   "outputs": [
    {
     "data": {
      "text/plain": [
       "ML                   80\n",
       "DBMS                 52\n",
       "Computer Networks    65\n",
       "OS                   89\n",
       "NLP                  45\n",
       "Name: Shahin er Mark, dtype: int64"
      ]
     },
     "execution_count": 5,
     "metadata": {},
     "output_type": "execute_result"
    }
   ],
   "source": [
    "# Setting a name \n",
    "marks =pd.Series(marks, index=subjects,name='Shahin er Mark')\n",
    "marks"
   ]
  },
  {
   "cell_type": "code",
   "execution_count": 6,
   "id": "5dfc86df-3a5a-4ad5-bdb6-065a9a21de9a",
   "metadata": {},
   "outputs": [
    {
     "data": {
      "text/plain": [
       "Bangla     20\n",
       "English    33\n",
       "Arabic     45\n",
       "Name: My marks, dtype: int64"
      ]
     },
     "execution_count": 6,
     "metadata": {},
     "output_type": "execute_result"
    }
   ],
   "source": [
    "# Creating a dictionaries\n",
    "marks = {\n",
    "    'Bangla': 20,\n",
    "    'English': 33,\n",
    "    'Arabic' : 45\n",
    "\n",
    "}\n",
    "pd.Series(marks, name= 'My marks')"
   ]
  },
  {
   "cell_type": "markdown",
   "id": "8ea73caa-a5d4-4059-acfb-92f8a2cd8e2f",
   "metadata": {},
   "source": [
    "# Series Attributes"
   ]
  },
  {
   "cell_type": "code",
   "execution_count": null,
   "id": "5beff506-0693-4a4b-9b14-f8416df8c0a0",
   "metadata": {},
   "outputs": [],
   "source": []
  }
 ],
 "metadata": {
  "kernelspec": {
   "display_name": "Python 3 (ipykernel)",
   "language": "python",
   "name": "python3"
  },
  "language_info": {
   "codemirror_mode": {
    "name": "ipython",
    "version": 3
   },
   "file_extension": ".py",
   "mimetype": "text/x-python",
   "name": "python",
   "nbconvert_exporter": "python",
   "pygments_lexer": "ipython3",
   "version": "3.12.4"
  }
 },
 "nbformat": 4,
 "nbformat_minor": 5
}
