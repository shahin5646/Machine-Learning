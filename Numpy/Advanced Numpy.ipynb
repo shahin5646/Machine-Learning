{
 "cells": [
  {
   "cell_type": "markdown",
   "id": "0c927d7f-4873-4a93-9b19-3c3efd19842f",
   "metadata": {},
   "source": [
    "## Testing speed List vs Numpy"
   ]
  },
  {
   "cell_type": "code",
   "execution_count": 69,
   "id": "0c5998ae-5e2d-4d88-80ee-38813941a87a",
   "metadata": {},
   "outputs": [
    {
     "name": "stdout",
     "output_type": "stream",
     "text": [
      "1.0041263103485107\n"
     ]
    }
   ],
   "source": [
    "#list\n",
    "a = [i for i in range(10000000)]\n",
    "b = [i for i in range (10000000,20000000)]\n",
    "c = []\n",
    "\n",
    "import time\n",
    "start = time.time()\n",
    "\n",
    "for i in range(len(a)):\n",
    "    c.append(a[i]+b[i])\n",
    "\n",
    "print(time.time()-start)\n"
   ]
  },
  {
   "cell_type": "code",
   "execution_count": 70,
   "id": "df5761a6-ad61-45bc-b8f7-626776c97794",
   "metadata": {},
   "outputs": [
    {
     "name": "stdout",
     "output_type": "stream",
     "text": [
      "0.08250999450683594\n"
     ]
    }
   ],
   "source": [
    "#Numpy\n",
    "import numpy as np\n",
    "a1 = np.arange(10000000)\n",
    "b1 = np.arange(10000000,20000000)\n",
    "import time\n",
    "start = time.time()\n",
    "c = a1+b1\n",
    "print(time.time()-start)"
   ]
  },
  {
   "cell_type": "markdown",
   "id": "53cf0463-4d52-4a6c-8c64-3b8c207b9344",
   "metadata": {},
   "source": [
    "### Memory"
   ]
  },
  {
   "cell_type": "code",
   "execution_count": 71,
   "id": "5ab77eb6-1d7b-47ad-ab8a-1a20b865b295",
   "metadata": {},
   "outputs": [
    {
     "data": {
      "text/plain": [
       "89095160"
      ]
     },
     "execution_count": 71,
     "metadata": {},
     "output_type": "execute_result"
    }
   ],
   "source": [
    "# List\n",
    "a = [ i for i in range(10000000)]\n",
    "import sys\n",
    "\n",
    "sys.getsizeof(a)\n",
    "\n"
   ]
  },
  {
   "cell_type": "code",
   "execution_count": 72,
   "id": "5f03449e-7249-4388-bc0d-fd257a297c43",
   "metadata": {},
   "outputs": [
    {
     "data": {
      "text/plain": [
       "40000112"
      ]
     },
     "execution_count": 72,
     "metadata": {},
     "output_type": "execute_result"
    }
   ],
   "source": [
    "# Numpy \n",
    "a3 = np.arange(10000000)\n",
    "import sys\n",
    "sys.getsizeof(a3)"
   ]
  },
  {
   "cell_type": "markdown",
   "id": "5db68f9b-55ee-4201-a9aa-a78ba2424f71",
   "metadata": {},
   "source": [
    "#### Fancy Indexing"
   ]
  },
  {
   "cell_type": "code",
   "execution_count": 73,
   "id": "dd88d4a8-efef-4f20-b132-6b6e4513d525",
   "metadata": {},
   "outputs": [
    {
     "data": {
      "text/plain": [
       "array([[ 0,  1,  2,  3],\n",
       "       [ 4,  5,  6,  7],\n",
       "       [ 8,  9, 10, 11],\n",
       "       [12, 13, 14, 15],\n",
       "       [16, 17, 18, 19],\n",
       "       [20, 21, 22, 23]])"
      ]
     },
     "execution_count": 73,
     "metadata": {},
     "output_type": "execute_result"
    }
   ],
   "source": [
    "### Fancy Indexing\n",
    "a = np.arange(24).reshape(6,4)\n",
    "a"
   ]
  },
  {
   "cell_type": "code",
   "execution_count": 74,
   "id": "17245b49-8cd8-4d64-96f6-4adb9a51ed62",
   "metadata": {},
   "outputs": [
    {
     "data": {
      "text/plain": [
       "array([[ 4,  5,  6,  7],\n",
       "       [12, 13, 14, 15],\n",
       "       [20, 21, 22, 23]])"
      ]
     },
     "execution_count": 74,
     "metadata": {},
     "output_type": "execute_result"
    }
   ],
   "source": [
    "# e.g -> Extracting 2,4,6 th raw\n",
    "\n",
    "a[[1,3,5]]"
   ]
  },
  {
   "cell_type": "code",
   "execution_count": 75,
   "id": "1eaa9899-f1ee-4dce-b5f8-98a1e0840bc5",
   "metadata": {},
   "outputs": [
    {
     "data": {
      "text/plain": [
       "array([[ 1,  2,  3],\n",
       "       [ 5,  6,  7],\n",
       "       [ 9, 10, 11],\n",
       "       [13, 14, 15],\n",
       "       [17, 18, 19],\n",
       "       [21, 22, 23]])"
      ]
     },
     "execution_count": 75,
     "metadata": {},
     "output_type": "execute_result"
    }
   ],
   "source": [
    "# e.g -> Extracting  2,3,4 column \n",
    "a[:,[1,2,3]]"
   ]
  },
  {
   "cell_type": "markdown",
   "id": "3f06dd69-a66d-4d37-9b20-a6481523d9d8",
   "metadata": {},
   "source": [
    "## Boolean Indexing\n",
    "- it return 1D array and create a temporary array"
   ]
  },
  {
   "cell_type": "code",
   "execution_count": 76,
   "id": "166f3170-5b8b-4303-a777-8b330bcc954c",
   "metadata": {},
   "outputs": [
    {
     "data": {
      "text/plain": [
       "array([[ 6, 16, 30, 18],\n",
       "       [ 7, 69, 23, 23],\n",
       "       [12, 39, 24, 44],\n",
       "       [90, 77, 86, 78],\n",
       "       [92, 67, 59,  1],\n",
       "       [64, 69, 51, 80]])"
      ]
     },
     "execution_count": 76,
     "metadata": {},
     "output_type": "execute_result"
    }
   ],
   "source": [
    "a=np.random.randint(1,100,24).reshape(6,4)\n",
    "a"
   ]
  },
  {
   "cell_type": "code",
   "execution_count": 77,
   "id": "688585f0-d231-4c2c-96c2-e49b458729d9",
   "metadata": {},
   "outputs": [
    {
     "data": {
      "text/plain": [
       "array([69, 90, 77, 86, 78, 92, 67, 59, 64, 69, 51, 80])"
      ]
     },
     "execution_count": 77,
     "metadata": {},
     "output_type": "execute_result"
    }
   ],
   "source": [
    "# Find numbers greater than 50\n",
    "\n",
    "a[a>50]"
   ]
  },
  {
   "cell_type": "code",
   "execution_count": 78,
   "id": "f0b99d87-427a-46b4-b99d-8c62145a9985",
   "metadata": {
    "scrolled": true
   },
   "outputs": [
    {
     "data": {
      "text/plain": [
       "array([ 6, 16, 30, 18, 12, 24, 44, 90, 86, 78, 92, 64, 80])"
      ]
     },
     "execution_count": 78,
     "metadata": {},
     "output_type": "execute_result"
    }
   ],
   "source": [
    "# Find even Number\n",
    "\n",
    "a[a % 2 == 0]"
   ]
  },
  {
   "cell_type": "code",
   "execution_count": 79,
   "id": "0018d80b-b332-4f82-b872-8687d6867027",
   "metadata": {},
   "outputs": [
    {
     "data": {
      "text/plain": [
       "array([90, 86, 78, 92, 64, 80])"
      ]
     },
     "execution_count": 79,
     "metadata": {},
     "output_type": "execute_result"
    }
   ],
   "source": [
    "# Find greater than 50 and even numer\n",
    "\n",
    "a[(a>50) & (a % 2 == 0)]"
   ]
  },
  {
   "cell_type": "code",
   "execution_count": 80,
   "id": "cae3b2ec-1dca-4099-8a88-a1add52870a5",
   "metadata": {},
   "outputs": [
    {
     "data": {
      "text/plain": [
       "array([ 6, 16, 30, 18,  7, 69, 23, 23, 12, 39, 24, 44, 90, 77, 86, 78, 92,\n",
       "       67, 59,  1, 64, 69, 51, 80])"
      ]
     },
     "execution_count": 80,
     "metadata": {},
     "output_type": "execute_result"
    }
   ],
   "source": [
    "# Numbers not divisible by 8\n",
    "\n",
    "# a[a/8 != 0]\n",
    "\n",
    "a[~(a/8 == 0)]"
   ]
  },
  {
   "attachments": {
    "9f49c824-016c-4daa-a1b4-d93a8daa90eb.png": {
     "image/png": "[encoded data removed]"
    }
   },
   "cell_type": "markdown",
   "id": "bf7fb57a-8fb5-418a-820e-4bb630c72284",
   "metadata": {},
   "source": [
    "## Broadcasting\n",
    "- The term broadcasting describes how NumPy treats arrays with different shapes during arithmetic operations.\n",
    "- The smaller array is “broadcast” across the larger array so that they have compatible shape\n",
    "\n",
    "#### Broadcusting Rules\n",
    "#### Make the two arrays have the same number of dimensions.\n",
    "- If the numbers of dimensions of the two arrays are different, add new dimensions with size 1 to the head of the array with the smaller dimension.\n",
    "####  Make each dimension of the two arrays the same size.\n",
    "- If the sizes of each dimension of the two arrays do not match, dimensions with size 1 are stretched to the size of the other array.\n",
    "- If there is a dimension whose size is not 1 in either of the two arrays, it cannot be broadcasted, and an error is raised\n",
    "\n",
    "  \n",
    "  ![image.png](attachment:9f49c824-016c-4daa-a1b4-d93a8daa90eb.png).s.\n",
    "####"
   ]
  },
  {
   "cell_type": "code",
   "execution_count": 81,
   "id": "528b2513-f127-4bea-abe8-e5c025b8321c",
   "metadata": {},
   "outputs": [
    {
     "name": "stdout",
     "output_type": "stream",
     "text": [
      "[[ 6  8 10]\n",
      " [12 14 16]]\n"
     ]
    }
   ],
   "source": [
    "# same shape\n",
    "a = np.arange(6).reshape(2,3)\n",
    "b = np.arange(6,12).reshape(2,3)\n",
    "print(a+b)"
   ]
  },
  {
   "cell_type": "code",
   "execution_count": 82,
   "id": "ce6c65cf-2aa0-4aec-9c97-132e66fa4f18",
   "metadata": {},
   "outputs": [
    {
     "name": "stdout",
     "output_type": "stream",
     "text": [
      "[[0 2 4]\n",
      " [3 5 7]]\n"
     ]
    }
   ],
   "source": [
    "# different shape\n",
    "a = np.arange(6).reshape(2,3)\n",
    "b = np.arange(3).reshape(1,3)\n",
    "print(a+b)"
   ]
  },
  {
   "cell_type": "code",
   "execution_count": 83,
   "id": "ce08f7ff-9664-484a-8e2e-278930413a87",
   "metadata": {},
   "outputs": [
    {
     "name": "stdout",
     "output_type": "stream",
     "text": [
      "[[ 0  1  2]\n",
      " [ 3  4  5]\n",
      " [ 6  7  8]\n",
      " [ 9 10 11]]\n",
      "\n",
      "\n",
      "\n",
      "[0 1 2]\n",
      "\n",
      " Results ->\n",
      "\n",
      "[[ 0  2  4]\n",
      " [ 3  5  7]\n",
      " [ 6  8 10]\n",
      " [ 9 11 13]]\n"
     ]
    }
   ],
   "source": [
    "#Example 1->\n",
    "a = np.arange(12).reshape(4,3)\n",
    "b = np.arange(3)\n",
    "print(a)\n",
    "print(\"\\n\\n\")\n",
    "print(b)\n",
    "print(\"\\n Results ->\\n\")\n",
    "print(a+b)"
   ]
  },
  {
   "cell_type": "markdown",
   "id": "a1021b10-32fe-4c9a-84bd-dbd879f02ae2",
   "metadata": {},
   "source": [
    "##### Example of Error Broadcasting \n",
    "1. It will throw n ERROR because (3,4) and (3) first WE CONVERT (1,3) by adding 1 in head then we streched it to (3,3).\n",
    "2. In this case there is no 1 in the column .Thats why we can not perform Broadcasting here.\n"
   ]
  },
  {
   "cell_type": "code",
   "execution_count": 84,
   "id": "777328c0-1c5c-42ac-8e13-95f7d3dc24ea",
   "metadata": {},
   "outputs": [
    {
     "name": "stdout",
     "output_type": "stream",
     "text": [
      "[[ 0  1  2  3]\n",
      " [ 4  5  6  7]\n",
      " [ 8  9 10 11]]\n",
      "\n",
      "\n",
      "\n",
      "[0 1 2]\n",
      "\n",
      " Results ->\n",
      "\n"
     ]
    }
   ],
   "source": [
    "a = np.arange(12).reshape(3,4)\n",
    "b = np.arange(3)\n",
    "print(a)\n",
    "print(\"\\n\\n\")\n",
    "print(b)\n",
    "print(\"\\n Results ->\\n\")\n",
    "# print(a+b)\n"
   ]
  },
  {
   "cell_type": "code",
   "execution_count": 85,
   "id": "517b7f1a-aaf3-46ec-aa31-ee728ff10181",
   "metadata": {},
   "outputs": [
    {
     "name": "stdout",
     "output_type": "stream",
     "text": [
      "[[0 1 2]\n",
      " [1 2 3]\n",
      " [2 3 4]]\n"
     ]
    }
   ],
   "source": [
    "# Example 2 ->\n",
    "a = np.arange(3).reshape(1,3)\n",
    "b = np.arange(3).reshape(3,1)\n",
    "\n",
    "print(a+b)"
   ]
  },
  {
   "cell_type": "code",
   "execution_count": 86,
   "id": "7b4d9f56-c23e-43c9-9e8b-eb5f29e3b7d6",
   "metadata": {},
   "outputs": [
    {
     "name": "stdout",
     "output_type": "stream",
     "text": [
      "[[0 1 2]]\n",
      "\n",
      "\n",
      "[[0]\n",
      " [1]\n",
      " [2]\n",
      " [3]]\n",
      "Result:-> \n",
      "\n",
      "[[0 1 2]\n",
      " [1 2 3]\n",
      " [2 3 4]\n",
      " [3 4 5]]\n"
     ]
    }
   ],
   "source": [
    "# Example 3 ->\n",
    "a = np.arange(3).reshape(1,3)\n",
    "b = np.arange(4).reshape(4,1)\n",
    "print(a)\n",
    "print(\"\\n\")\n",
    "print(b)\n",
    "print(\"Result:-> \\n\")\n",
    "print(a + b)\n"
   ]
  },
  {
   "cell_type": "code",
   "execution_count": 87,
   "id": "75d7afcd-3b32-4922-a329-dd250e46f6bc",
   "metadata": {},
   "outputs": [
    {
     "name": "stdout",
     "output_type": "stream",
     "text": [
      "[1]\n",
      "[[0 1]\n",
      " [2 3]]\n",
      "[[1 2]\n",
      " [3 4]]\n"
     ]
    }
   ],
   "source": [
    "a = np.array([1])\n",
    "# shape -> (1,1)\n",
    "b = np.arange(4).reshape(2,2)\n",
    "# shape -> (2,2)\n",
    "\n",
    "print(a)\n",
    "print(b)\n",
    "\n",
    "print(a+b)"
   ]
  },
  {
   "cell_type": "code",
   "execution_count": 88,
   "id": "76578ff2-a5d8-4df0-94fd-25dc7da9fc86",
   "metadata": {},
   "outputs": [
    {
     "name": "stdout",
     "output_type": "stream",
     "text": [
      "[[ 0  1  2  3]\n",
      " [ 4  5  6  7]\n",
      " [ 8  9 10 11]]\n",
      "[[ 0  1  2]\n",
      " [ 3  4  5]\n",
      " [ 6  7  8]\n",
      " [ 9 10 11]]\n"
     ]
    }
   ],
   "source": [
    "# Example Of Error \n",
    "a = np.arange(12).reshape(3,4)\n",
    "b = np.arange(12).reshape(4,3)\n",
    "\n",
    "print(a)\n",
    "print(b)\n",
    "\n",
    "# print(a+b)"
   ]
  },
  {
   "cell_type": "code",
   "execution_count": 89,
   "id": "31bb777b-ebcd-4a75-85f6-e6e637f0b907",
   "metadata": {},
   "outputs": [
    {
     "name": "stdout",
     "output_type": "stream",
     "text": [
      "[[ 0  1  2  3]\n",
      " [ 4  5  6  7]\n",
      " [ 8  9 10 11]\n",
      " [12 13 14 15]]\n",
      "[[0 1]\n",
      " [2 3]]\n"
     ]
    }
   ],
   "source": [
    "# Example Of Error \n",
    "a = np.arange(16).reshape(4,4)\n",
    "b = np.arange(4).reshape(2,2)\n",
    "\n",
    "print(a)\n",
    "print(b)\n",
    "\n",
    "# print(a+b)"
   ]
  },
  {
   "cell_type": "markdown",
   "id": "9ba342f1-2247-4bce-b875-cdb956c73df0",
   "metadata": {},
   "source": [
    "## Working With Mathmatical Formulas\n"
   ]
  },
  {
   "cell_type": "code",
   "execution_count": 90,
   "id": "42ae29b4-25b7-44d3-8fe2-ee1dc6ffcbdf",
   "metadata": {},
   "outputs": [
    {
     "data": {
      "text/plain": [
       "array([0.5       , 0.73105858, 0.88079708, 0.95257413, 0.98201379,\n",
       "       0.99330715, 0.99752738, 0.99908895, 0.99966465, 0.99987661,\n",
       "       0.9999546 , 0.9999833 , 0.99999386, 0.99999774, 0.99999917,\n",
       "       0.99999969, 0.99999989, 0.99999996, 0.99999998, 0.99999999,\n",
       "       1.        , 1.        , 1.        , 1.        , 1.        ,\n",
       "       1.        , 1.        , 1.        , 1.        , 1.        ,\n",
       "       1.        , 1.        , 1.        , 1.        , 1.        ,\n",
       "       1.        , 1.        , 1.        , 1.        , 1.        ,\n",
       "       1.        , 1.        , 1.        , 1.        , 1.        ,\n",
       "       1.        , 1.        , 1.        , 1.        , 1.        ,\n",
       "       1.        , 1.        , 1.        , 1.        , 1.        ,\n",
       "       1.        , 1.        , 1.        , 1.        , 1.        ,\n",
       "       1.        , 1.        , 1.        , 1.        , 1.        ,\n",
       "       1.        , 1.        , 1.        , 1.        , 1.        ,\n",
       "       1.        , 1.        , 1.        , 1.        , 1.        ,\n",
       "       1.        , 1.        , 1.        , 1.        , 1.        ,\n",
       "       1.        , 1.        , 1.        , 1.        , 1.        ,\n",
       "       1.        , 1.        , 1.        , 1.        , 1.        ,\n",
       "       1.        , 1.        , 1.        , 1.        , 1.        ,\n",
       "       1.        , 1.        , 1.        , 1.        , 1.        ])"
      ]
     },
     "execution_count": 90,
     "metadata": {},
     "output_type": "execute_result"
    }
   ],
   "source": [
    "# Sigmoid convert any given number to the range of 0 to 1\n",
    "a = np.arange(100)\n",
    "def sigmoid(array):\n",
    "    return 1/(1+np.exp(-(array)))\n",
    "\n",
    "sigmoid(a)"
   ]
  },
  {
   "cell_type": "code",
   "execution_count": 91,
   "id": "bdee7847-a4e5-4cf8-895e-b9224f4e15a8",
   "metadata": {},
   "outputs": [
    {
     "data": {
      "text/plain": [
       "380.4"
      ]
     },
     "execution_count": 91,
     "metadata": {},
     "output_type": "execute_result"
    }
   ],
   "source": [
    "#Mean squared error\n",
    "actual = np.random.randint(1,50,25)\n",
    "predicted = np.random.randint(1,50,25)\n",
    "\n",
    "def mse(actual,predicted):\n",
    "    return np.mean((actual-predicted)**2)\n",
    "\n",
    "mse(actual,predicted)\n"
   ]
  },
  {
   "cell_type": "markdown",
   "id": "8047fe80-1f5e-444c-bfdb-1336f144c2da",
   "metadata": {},
   "source": [
    "## Working with missing Values"
   ]
  },
  {
   "cell_type": "code",
   "execution_count": 92,
   "id": "b32da34d-eb8d-4d7e-9969-f612685c04ac",
   "metadata": {},
   "outputs": [
    {
     "data": {
      "text/plain": [
       "array([ 1.,  5., 69.,  5., nan,  6.])"
      ]
     },
     "execution_count": 92,
     "metadata": {},
     "output_type": "execute_result"
    }
   ],
   "source": [
    "a = np.array([1,5,69,5,np.nan,6])\n",
    "a\n"
   ]
  },
  {
   "cell_type": "code",
   "execution_count": 93,
   "id": "ee81fbe7-d647-44ca-ac62-1544089b0cec",
   "metadata": {},
   "outputs": [
    {
     "data": {
      "text/plain": [
       "array([False, False, False, False,  True, False])"
      ]
     },
     "execution_count": 93,
     "metadata": {},
     "output_type": "execute_result"
    }
   ],
   "source": [
    "np.isnan(a)"
   ]
  },
  {
   "cell_type": "code",
   "execution_count": 94,
   "id": "0e70a919-3e24-4b95-943a-34e144faa48b",
   "metadata": {},
   "outputs": [
    {
     "data": {
      "text/plain": [
       "array([nan])"
      ]
     },
     "execution_count": 94,
     "metadata": {},
     "output_type": "execute_result"
    }
   ],
   "source": [
    "a[np.isnan(a)]"
   ]
  },
  {
   "cell_type": "code",
   "execution_count": 95,
   "id": "9bfd57cd-59a8-4b2d-960e-5b53596a3e98",
   "metadata": {},
   "outputs": [
    {
     "data": {
      "text/plain": [
       "array([ 1.,  5., 69.,  5.,  6.])"
      ]
     },
     "execution_count": 95,
     "metadata": {},
     "output_type": "execute_result"
    }
   ],
   "source": [
    "# Final Answer\n",
    "a[~ np.isnan(a)] # Adding a ~ "
   ]
  },
  {
   "cell_type": "markdown",
   "id": "39258e1b-0438-4b1e-ba18-08bff81c6ff1",
   "metadata": {},
   "source": [
    "# Plotting Graphs "
   ]
  },
  {
   "cell_type": "code",
   "execution_count": 96,
   "id": "5aeadb0b-9246-4779-af5b-4a24bdd1c4ee",
   "metadata": {},
   "outputs": [
    {
     "data": {
      "text/plain": [
       "[<matplotlib.lines.Line2D at 0x1ea87c192e0>]"
      ]
     },
     "execution_count": 96,
     "metadata": {},
     "output_type": "execute_result"
    },
    {
     "data": {
      "image/png": "[encoded data removed]",
      "text/plain": [
       "<Figure size 640x480 with 1 Axes>"
      ]
     },
     "metadata": {},
     "output_type": "display_data"
    }
   ],
   "source": [
    "# x=y graph plot \n",
    "\n",
    "x = np.linspace(-20,20,100)\n",
    "y= x\n",
    "import matplotlib.pyplot as plt\n",
    "\n",
    "plt.plot(x,y)"
   ]
  },
  {
   "cell_type": "code",
   "execution_count": 97,
   "id": "289e0e4c-663c-4db6-9234-863ef0daebba",
   "metadata": {},
   "outputs": [
    {
     "data": {
      "text/plain": [
       "[<matplotlib.lines.Line2D at 0x1ea87c3ddc0>]"
      ]
     },
     "execution_count": 97,
     "metadata": {},
     "output_type": "execute_result"
    },
    {
     "data": {
      "image/png": "[encoded data removed]",
      "text/plain": [
       "<Figure size 640x480 with 1 Axes>"
      ]
     },
     "metadata": {},
     "output_type": "display_data"
    }
   ],
   "source": [
    "# y = x^2 ->Graph of parabola\n",
    "\n",
    "x = np.linspace(-10,10,100)\n",
    "y = x**2\n",
    "plt.plot(x,y)\n"
   ]
  },
  {
   "cell_type": "code",
   "execution_count": 98,
   "id": "1e2bc0a9-50b6-40ba-bfc0-f4d03662b261",
   "metadata": {},
   "outputs": [
    {
     "data": {
      "text/plain": [
       "[<matplotlib.lines.Line2D at 0x1ea9d495910>]"
      ]
     },
     "execution_count": 98,
     "metadata": {},
     "output_type": "execute_result"
    },
    {
     "data": {
      "image/png": "[encoded data removed]",
      "text/plain": [
       "<Figure size 640x480 with 1 Axes>"
      ]
     },
     "metadata": {},
     "output_type": "display_data"
    }
   ],
   "source": [
    "# y = sinx\n",
    "x = np.linspace(-10,10,100)\n",
    "y = np.sin(x)\n",
    "plt.plot(x,y)\n"
   ]
  },
  {
   "cell_type": "code",
   "execution_count": 99,
   "id": "ec232cc5-16da-481c-ab95-ea5844e06e31",
   "metadata": {},
   "outputs": [
    {
     "name": "stderr",
     "output_type": "stream",
     "text": [
      "C:\\Users\\Shahin\\AppData\\Local\\Temp\\ipykernel_4172\\1459615726.py:3: RuntimeWarning: invalid value encountered in log\n",
      "  y = x * (np.log(x))\n"
     ]
    },
    {
     "data": {
      "text/plain": [
       "[<matplotlib.lines.Line2D at 0x1ea9d421700>]"
      ]
     },
     "execution_count": 99,
     "metadata": {},
     "output_type": "execute_result"
    },
    {
     "data": {
      "image/png": "[encoded data removed]",
      "text/plain": [
       "<Figure size 640x480 with 1 Axes>"
      ]
     },
     "metadata": {},
     "output_type": "display_data"
    }
   ],
   "source": [
    "# y = xlogx\n",
    "x = np.linspace(-10,10,50)\n",
    "y = x * (np.log(x))\n",
    "\n",
    "plt.plot(x,y)"
   ]
  },
  {
   "cell_type": "code",
   "execution_count": 100,
   "id": "316cbb15-b22d-4d8b-b399-b3b8351a2d40",
   "metadata": {},
   "outputs": [
    {
     "data": {
      "text/plain": [
       "[<matplotlib.lines.Line2D at 0x1eacb89c5c0>]"
      ]
     },
     "execution_count": 100,
     "metadata": {},
     "output_type": "execute_result"
    },
    {
     "data": {
      "image/png": "[encoded data removed]",
      "text/plain": [
       "<Figure size 640x480 with 1 Axes>"
      ]
     },
     "metadata": {},
     "output_type": "display_data"
    }
   ],
   "source": [
    "# sigmoid\n",
    "x = np.linspace(-10,10,100)\n",
    "\n",
    "y = 1/ (1+np.exp(-x))\n",
    "plt.plot(x,y)\n"
   ]
  },
  {
   "cell_type": "code",
   "execution_count": null,
   "id": "5169c243-d065-45a8-92bc-b6bb90688d47",
   "metadata": {},
   "outputs": [],
   "source": []
  },
  {
   "cell_type": "markdown",
   "id": "69558a9c",
   "metadata": {},
   "source": []
  },
  {
   "cell_type": "code",
   "execution_count": 101,
   "id": "cca3be3f",
   "metadata": {},
   "outputs": [
    {
     "data": {
      "text/plain": [
       "array([[0, 1],\n",
       "       [2, 3]])"
      ]
     },
     "execution_count": 101,
     "metadata": {},
     "output_type": "execute_result"
    }
   ],
   "source": [
    "b"
   ]
  },
  {
   "cell_type": "code",
   "execution_count": 102,
   "id": "6dd96cd1",
   "metadata": {},
   "outputs": [
    {
     "data": {
      "text/plain": [
       "4"
      ]
     },
     "execution_count": 102,
     "metadata": {},
     "output_type": "execute_result"
    },
    {
     "ename": "",
     "evalue": "",
     "output_type": "error",
     "traceback": [
      "\u001b[1;31mThe Kernel crashed while executing code in the current cell or a previous cell. \n",
      "\u001b[1;31mPlease review the code in the cell(s) to identify a possible cause of the failure. \n",
      "\u001b[1;31mClick <a href='https://aka.ms/vscodeJupyterKernelCrash'>here</a> for more info. \n",
      "\u001b[1;31mView Jupyter <a href='command:jupyter.viewOutput'>log</a> for further details."
     ]
    }
   ],
   "source": [
    "\n",
    "np.size(b)"
   ]
  },
  {
   "cell_type": "markdown",
   "id": "d72258c9",
   "metadata": {},
   "source": []
  },
  {
   "cell_type": "code",
   "execution_count": null,
   "id": "ca5a782a",
   "metadata": {},
   "outputs": [],
   "source": [
    "\n"
   ]
  }
 ],
 "metadata": {
  "kernelspec": {
   "display_name": "Python 3 (ipykernel)",
   "language": "python",
   "name": "python3"
  },
  "language_info": {
   "codemirror_mode": {
    "name": "ipython",
    "version": 3
   },
   "file_extension": ".py",
   "mimetype": "text/x-python",
   "name": "python",
   "nbconvert_exporter": "python",
   "pygments_lexer": "ipython3",
   "version": "3.12.4"
  }
 },
 "nbformat": 4,
 "nbformat_minor": 5
}
