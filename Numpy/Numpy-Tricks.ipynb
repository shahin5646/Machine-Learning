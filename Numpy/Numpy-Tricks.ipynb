{
 "cells": [
  {
   "cell_type": "markdown",
   "id": "870d3453-e72b-45e4-b7ca-903897288944",
   "metadata": {},
   "source": [
    "## np.sort\n",
    "- Return a sorted copy of an array."
   ]
  },
  {
   "cell_type": "code",
   "execution_count": 123,
   "id": "4a8d85bb-c95f-43e7-97d2-d8cc1a256299",
   "metadata": {},
   "outputs": [
    {
     "data": {
      "text/plain": [
       "array([72, 11, 24, 43, 41,  1, 72, 40, 80, 40,  3, 10, 41, 86, 50])"
      ]
     },
     "execution_count": 123,
     "metadata": {},
     "output_type": "execute_result"
    }
   ],
   "source": [
    "import numpy as np\n",
    "a = np.random.randint(1,100,15)\n",
    "a"
   ]
  },
  {
   "cell_type": "code",
   "execution_count": 124,
   "id": "4459ad5d-da60-40a8-b468-55076dfe6211",
   "metadata": {},
   "outputs": [
    {
     "data": {
      "text/plain": [
       "array([[87, 16, 33, 13],\n",
       "       [27, 96, 86, 70],\n",
       "       [37, 50, 72, 27],\n",
       "       [53, 86, 18, 30],\n",
       "       [53, 16, 57, 99],\n",
       "       [53, 17,  1, 67]])"
      ]
     },
     "execution_count": 124,
     "metadata": {},
     "output_type": "execute_result"
    }
   ],
   "source": [
    "b = np.random.randint(1,100,24).reshape(6,4)\n",
    "b"
   ]
  },
  {
   "cell_type": "code",
   "execution_count": 125,
   "id": "a1e2e0d8-920c-4ca1-aff4-81411bdd7e33",
   "metadata": {},
   "outputs": [
    {
     "data": {
      "text/plain": [
       "array([ 1,  3, 10, 11, 24, 40, 40, 41, 41, 43, 50, 72, 72, 80, 86])"
      ]
     },
     "execution_count": 125,
     "metadata": {},
     "output_type": "execute_result"
    }
   ],
   "source": [
    "#sort \n",
    "np.sort(a)"
   ]
  },
  {
   "cell_type": "code",
   "execution_count": 126,
   "id": "f536fc5a-628d-4a42-bcba-bdb95479726d",
   "metadata": {},
   "outputs": [
    {
     "data": {
      "text/plain": [
       "array([86, 80, 72, 72, 50, 43, 41, 41, 40, 40, 24, 11, 10,  3,  1])"
      ]
     },
     "execution_count": 126,
     "metadata": {},
     "output_type": "execute_result"
    }
   ],
   "source": [
    "#Descending Order\n",
    "np.sort(a)[::-1]"
   ]
  },
  {
   "cell_type": "code",
   "execution_count": 127,
   "id": "cfd190ad-8307-4c00-b70e-fb045cc22a5d",
   "metadata": {},
   "outputs": [
    {
     "data": {
      "text/plain": [
       "array([[27, 16,  1, 13],\n",
       "       [37, 16, 18, 27],\n",
       "       [53, 17, 33, 30],\n",
       "       [53, 50, 57, 67],\n",
       "       [53, 86, 72, 70],\n",
       "       [87, 96, 86, 99]])"
      ]
     },
     "execution_count": 127,
     "metadata": {},
     "output_type": "execute_result"
    }
   ],
   "source": [
    "np.sort(b,axis=0)"
   ]
  },
  {
   "cell_type": "markdown",
   "id": "ce756718-b168-4ccf-963a-5e1ec3c1a40b",
   "metadata": {},
   "source": [
    "## np.append\n",
    "- The numpy.append() appends values along the mentioned axis at the end of the array"
   ]
  },
  {
   "cell_type": "code",
   "execution_count": 128,
   "id": "3e77d42d-5234-408a-bbaf-5d37e3b8757b",
   "metadata": {},
   "outputs": [
    {
     "data": {
      "text/plain": [
       "array([72, 11, 24, 43, 41,  1, 72, 40, 80, 40,  3, 10, 41, 86, 50])"
      ]
     },
     "execution_count": 128,
     "metadata": {},
     "output_type": "execute_result"
    }
   ],
   "source": [
    "a\n"
   ]
  },
  {
   "cell_type": "code",
   "execution_count": 129,
   "id": "0215eea6-5f5f-45c6-9c8d-129e389fb0c1",
   "metadata": {},
   "outputs": [
    {
     "data": {
      "text/plain": [
       "array([ 72,  11,  24,  43,  41,   1,  72,  40,  80,  40,   3,  10,  41,\n",
       "        86,  50, 200])"
      ]
     },
     "execution_count": 129,
     "metadata": {},
     "output_type": "execute_result"
    }
   ],
   "source": [
    "np.append(a,200)"
   ]
  },
  {
   "cell_type": "code",
   "execution_count": 130,
   "id": "81a92c55-5155-4a1e-973a-0b824c7e27ca",
   "metadata": {},
   "outputs": [
    {
     "data": {
      "text/plain": [
       "array([[87, 16, 33, 13],\n",
       "       [27, 96, 86, 70],\n",
       "       [37, 50, 72, 27],\n",
       "       [53, 86, 18, 30],\n",
       "       [53, 16, 57, 99],\n",
       "       [53, 17,  1, 67]])"
      ]
     },
     "execution_count": 130,
     "metadata": {},
     "output_type": "execute_result"
    }
   ],
   "source": [
    "b"
   ]
  },
  {
   "cell_type": "code",
   "execution_count": 131,
   "id": "00c6c33a-3caf-4d4d-9523-5791bc13b537",
   "metadata": {},
   "outputs": [
    {
     "data": {
      "text/plain": [
       "array([[87.        , 16.        , 33.        , 13.        ,  0.9946206 ],\n",
       "       [27.        , 96.        , 86.        , 70.        ,  0.65131752],\n",
       "       [37.        , 50.        , 72.        , 27.        ,  0.22067054],\n",
       "       [53.        , 86.        , 18.        , 30.        ,  0.60465905],\n",
       "       [53.        , 16.        , 57.        , 99.        ,  0.71813755],\n",
       "       [53.        , 17.        ,  1.        , 67.        ,  0.5405063 ]])"
      ]
     },
     "execution_count": 131,
     "metadata": {},
     "output_type": "execute_result"
    }
   ],
   "source": [
    "np.append(b,np.random.random((b.shape[0],1)),axis=1)"
   ]
  },
  {
   "cell_type": "markdown",
   "id": "17fe052b-4193-4e88-a665-1f28d3de319f",
   "metadata": {},
   "source": [
    "## np.concatenate\n",
    "\n",
    "- numpy.concatenate() function concatenate a sequence of arrays along an existing axis.\n",
    "\n"
   ]
  },
  {
   "cell_type": "code",
   "execution_count": 132,
   "id": "380b1be1-a4d6-490e-bdb2-c5435c2e94a5",
   "metadata": {},
   "outputs": [
    {
     "name": "stdout",
     "output_type": "stream",
     "text": [
      "[[0 1 2]\n",
      " [3 4 5]]\n",
      "[[ 6  7  8]\n",
      " [ 9 10 11]]\n"
     ]
    }
   ],
   "source": [
    "c= np.arange(6).reshape(2,3)\n",
    "d = np.arange(6,12).reshape(2,3)\n",
    "print(c)\n",
    "print(d)"
   ]
  },
  {
   "cell_type": "code",
   "execution_count": 133,
   "id": "e018def0-de7c-41a6-b09a-7a66b079733b",
   "metadata": {},
   "outputs": [
    {
     "data": {
      "text/plain": [
       "array([[ 0,  1,  2],\n",
       "       [ 3,  4,  5],\n",
       "       [ 6,  7,  8],\n",
       "       [ 9, 10, 11]])"
      ]
     },
     "execution_count": 133,
     "metadata": {},
     "output_type": "execute_result"
    }
   ],
   "source": [
    "np.concatenate((c,d),axis= 0) # 0 --> row-wise"
   ]
  },
  {
   "cell_type": "code",
   "execution_count": 134,
   "id": "4e5d7535-7890-4a07-b74e-64e2802aaaf2",
   "metadata": {},
   "outputs": [
    {
     "data": {
      "text/plain": [
       "array([[ 0,  1,  2,  6,  7,  8],\n",
       "       [ 3,  4,  5,  9, 10, 11]])"
      ]
     },
     "execution_count": 134,
     "metadata": {},
     "output_type": "execute_result"
    }
   ],
   "source": [
    "np.concatenate((c,d),axis= 1) # 1 --> column-wise"
   ]
  },
  {
   "cell_type": "markdown",
   "id": "4c903fad-9cf4-4470-b9a2-f6736b73dedb",
   "metadata": {},
   "source": [
    "## np.unique\n",
    "- With the help of np.unique() method, we can get the unique values from an array given as parameter in np.unique() method."
   ]
  },
  {
   "cell_type": "code",
   "execution_count": 135,
   "id": "85ccaf6f-b7ec-4561-955f-6f8c1201c907",
   "metadata": {},
   "outputs": [
    {
     "data": {
      "text/plain": [
       "array([72, 11, 24, 43, 41,  1, 72, 40, 80, 40,  3, 10, 41, 86, 50])"
      ]
     },
     "execution_count": 135,
     "metadata": {},
     "output_type": "execute_result"
    }
   ],
   "source": [
    "a\n"
   ]
  },
  {
   "cell_type": "code",
   "execution_count": 136,
   "id": "476f7f55-9833-47ce-8f5c-4a645f5ca01a",
   "metadata": {},
   "outputs": [
    {
     "data": {
      "text/plain": [
       "array([ 1,  3, 10, 11, 24, 40, 41, 43, 50, 72, 80, 86])"
      ]
     },
     "execution_count": 136,
     "metadata": {},
     "output_type": "execute_result"
    }
   ],
   "source": [
    "# Finding the unique value\n",
    "np.unique(a)"
   ]
  },
  {
   "cell_type": "markdown",
   "id": "5226e8fa-8e0e-4e96-91db-f40ff38e56c1",
   "metadata": {},
   "source": [
    "## np.expand_dims\n",
    "- With the help of np.expand_dims() method, we can get the expanded dimensions of an array"
   ]
  },
  {
   "cell_type": "code",
   "execution_count": 137,
   "id": "471f3c7c-ee02-4d3c-a66c-49a11c73c1ca",
   "metadata": {},
   "outputs": [
    {
     "data": {
      "text/plain": [
       "array([72, 11, 24, 43, 41,  1, 72, 40, 80, 40,  3, 10, 41, 86, 50])"
      ]
     },
     "execution_count": 137,
     "metadata": {},
     "output_type": "execute_result"
    }
   ],
   "source": [
    "a"
   ]
  },
  {
   "cell_type": "code",
   "execution_count": 138,
   "id": "1b7bec52-85b2-4424-868b-34717615dd2b",
   "metadata": {},
   "outputs": [
    {
     "name": "stdout",
     "output_type": "stream",
     "text": [
      "[[72]\n",
      " [11]\n",
      " [24]\n",
      " [43]\n",
      " [41]\n",
      " [ 1]\n",
      " [72]\n",
      " [40]\n",
      " [80]\n",
      " [40]\n",
      " [ 3]\n",
      " [10]\n",
      " [41]\n",
      " [86]\n",
      " [50]]\n",
      "(15, 1)\n"
     ]
    }
   ],
   "source": [
    "# syntax of np.expand_dims \n",
    "print(np.expand_dims(a,axis=1))\n",
    "\n",
    "print(np.expand_dims(a,axis=1).shape)"
   ]
  },
  {
   "cell_type": "code",
   "execution_count": 139,
   "id": "34cbff06-1671-4ba9-81ac-f4259f260271",
   "metadata": {},
   "outputs": [
    {
     "name": "stdout",
     "output_type": "stream",
     "text": [
      "[[72 11 24 43 41  1 72 40 80 40  3 10 41 86 50]]\n",
      "(1, 15)\n"
     ]
    }
   ],
   "source": [
    "# column-wise\n",
    "print(np.expand_dims(a,axis=0))\n",
    "print(np.expand_dims(a,axis=0).shape)\n"
   ]
  },
  {
   "cell_type": "markdown",
   "id": "4f5619db-1693-4354-8b73-e789914e4f64",
   "metadata": {},
   "source": [
    "## np.where\n",
    "- The numpy.where() function returns the indices of elements in an input array where the given condition is satisfied.\n",
    "- jkuno condition er jonno index ber kora jay np.where(a> or any condition)\n",
    "- jkuno condition onujayi change kora jay np.where(condition,True hole eta boshbe ,false)"
   ]
  },
  {
   "cell_type": "code",
   "execution_count": 140,
   "id": "67cc5000-5435-4d66-823a-5e71c0205ea9",
   "metadata": {},
   "outputs": [
    {
     "data": {
      "text/plain": [
       "array([72, 11, 24, 43, 41,  1, 72, 40, 80, 40,  3, 10, 41, 86, 50])"
      ]
     },
     "execution_count": 140,
     "metadata": {},
     "output_type": "execute_result"
    }
   ],
   "source": [
    "a"
   ]
  },
  {
   "cell_type": "code",
   "execution_count": 141,
   "id": "59c7c822-6c71-4b30-a688-d8e746e80be9",
   "metadata": {},
   "outputs": [
    {
     "data": {
      "text/plain": [
       "(array([ 0,  6,  8, 13], dtype=int64),)"
      ]
     },
     "execution_count": 141,
     "metadata": {},
     "output_type": "execute_result"
    }
   ],
   "source": [
    "# find all indices with value greater than 50\n",
    "np.where(a>50)"
   ]
  },
  {
   "cell_type": "code",
   "execution_count": 142,
   "id": "5d060856-783a-4f7f-9a44-f5be0832c168",
   "metadata": {},
   "outputs": [
    {
     "data": {
      "text/plain": [
       "array([ 0, 11, 24, 43, 41,  1,  0, 40,  0, 40,  3, 10, 41,  0, 50])"
      ]
     },
     "execution_count": 142,
     "metadata": {},
     "output_type": "execute_result"
    }
   ],
   "source": [
    "# replace all values > 50 with 0\n",
    "\n",
    "np.where(a>50,0,a)"
   ]
  },
  {
   "cell_type": "code",
   "execution_count": 143,
   "id": "0854ba9d-d9e8-40f1-baca-fd4756f82de7",
   "metadata": {},
   "outputs": [
    {
     "data": {
      "text/plain": [
       "array([ 0, 11,  0, 43, 41,  1,  0,  0,  0,  0,  3,  0, 41,  0,  0])"
      ]
     },
     "execution_count": 143,
     "metadata": {},
     "output_type": "execute_result"
    }
   ],
   "source": [
    "# replace all even numbers with 0 \n",
    "np.where(a%2 == 0,0,a)"
   ]
  },
  {
   "cell_type": "markdown",
   "id": "e6150185-2e20-4a4c-af4f-7f618a75fe99",
   "metadata": {},
   "source": [
    "## np.argmax\n",
    "- The numpy.argmax() function returns indices of the max element of the array in a particular axis."
   ]
  },
  {
   "cell_type": "code",
   "execution_count": 144,
   "id": "ff864dc5-67df-4a4b-bbd1-2f8daf0c57af",
   "metadata": {},
   "outputs": [
    {
     "data": {
      "text/plain": [
       "array([72, 11, 24, 43, 41,  1, 72, 40, 80, 40,  3, 10, 41, 86, 50])"
      ]
     },
     "execution_count": 144,
     "metadata": {},
     "output_type": "execute_result"
    }
   ],
   "source": [
    "a"
   ]
  },
  {
   "cell_type": "code",
   "execution_count": 145,
   "id": "c042dfc7-18c6-4db2-9e2f-868306c926f1",
   "metadata": {},
   "outputs": [
    {
     "data": {
      "text/plain": [
       "13"
      ]
     },
     "execution_count": 145,
     "metadata": {},
     "output_type": "execute_result"
    }
   ],
   "source": [
    "np.argmax(a)"
   ]
  },
  {
   "cell_type": "code",
   "execution_count": 146,
   "id": "5dde2b6b-4e18-4acb-a8b0-178c6393c084",
   "metadata": {},
   "outputs": [
    {
     "data": {
      "text/plain": [
       "array([[87, 16, 33, 13],\n",
       "       [27, 96, 86, 70],\n",
       "       [37, 50, 72, 27],\n",
       "       [53, 86, 18, 30],\n",
       "       [53, 16, 57, 99],\n",
       "       [53, 17,  1, 67]])"
      ]
     },
     "execution_count": 146,
     "metadata": {},
     "output_type": "execute_result"
    }
   ],
   "source": [
    "b"
   ]
  },
  {
   "cell_type": "code",
   "execution_count": 147,
   "id": "dfac2e62-8a27-48af-8d58-1f1628fc00dd",
   "metadata": {},
   "outputs": [
    {
     "data": {
      "text/plain": [
       "array([0, 1, 1, 4], dtype=int64)"
      ]
     },
     "execution_count": 147,
     "metadata": {},
     "output_type": "execute_result"
    }
   ],
   "source": [
    "np.argmax(b,axis=0)"
   ]
  },
  {
   "cell_type": "markdown",
   "id": "2c936e9d-ef55-486b-9024-03162f0544ae",
   "metadata": {},
   "source": [
    "## np.argmin"
   ]
  },
  {
   "cell_type": "code",
   "execution_count": 148,
   "id": "af441d22-0114-47e9-b39a-0a100d53517d",
   "metadata": {},
   "outputs": [
    {
     "data": {
      "text/plain": [
       "array([3, 0, 3, 2, 1, 2], dtype=int64)"
      ]
     },
     "execution_count": 148,
     "metadata": {},
     "output_type": "execute_result"
    }
   ],
   "source": [
    "# argmin\n",
    "np.argmin(b,axis=1)"
   ]
  },
  {
   "cell_type": "markdown",
   "id": "e6c30b40-7d9a-444f-9711-4a57db06b1f8",
   "metadata": {},
   "source": [
    "## np.cumsum\n",
    "1. previous value jug hoy\n",
    "2. suppose Cricketer er previous match er runlist = 50,20,65,45,85,50,0,5 .prottek match er por jodi ba agee jante chawa hoy tar total run koto tolhon jevabe amra prothom (50+20=70) then next match (70+65= total) evabe jug hoy"
   ]
  },
  {
   "cell_type": "code",
   "execution_count": 149,
   "id": "064d56ac-d01d-4cf7-aae5-6270796d1424",
   "metadata": {},
   "outputs": [
    {
     "data": {
      "text/plain": [
       "array([72, 11, 24, 43, 41,  1, 72, 40, 80, 40,  3, 10, 41, 86, 50])"
      ]
     },
     "execution_count": 149,
     "metadata": {},
     "output_type": "execute_result"
    }
   ],
   "source": [
    "# np.cumsum \n",
    "a"
   ]
  },
  {
   "cell_type": "code",
   "execution_count": 150,
   "id": "a600eaf2-f4f8-4293-8ad3-70d13311c190",
   "metadata": {},
   "outputs": [
    {
     "data": {
      "text/plain": [
       "array([ 72,  83, 107, 150, 191, 192, 264, 304, 384, 424, 427, 437, 478,\n",
       "       564, 614])"
      ]
     },
     "execution_count": 150,
     "metadata": {},
     "output_type": "execute_result"
    }
   ],
   "source": [
    "np.cumsum(a)"
   ]
  },
  {
   "cell_type": "code",
   "execution_count": 151,
   "id": "1fd011c7-3cad-44d9-9ec8-584f3e5ee630",
   "metadata": {},
   "outputs": [
    {
     "data": {
      "text/plain": [
       "array([[87, 16, 33, 13],\n",
       "       [27, 96, 86, 70],\n",
       "       [37, 50, 72, 27],\n",
       "       [53, 86, 18, 30],\n",
       "       [53, 16, 57, 99],\n",
       "       [53, 17,  1, 67]])"
      ]
     },
     "execution_count": 151,
     "metadata": {},
     "output_type": "execute_result"
    }
   ],
   "source": [
    "b"
   ]
  },
  {
   "cell_type": "code",
   "execution_count": 152,
   "id": "16954369-ce98-4dbe-b426-027febacb1e9",
   "metadata": {},
   "outputs": [
    {
     "data": {
      "text/plain": [
       "array([[ 87,  16,  33,  13],\n",
       "       [114, 112, 119,  83],\n",
       "       [151, 162, 191, 110],\n",
       "       [204, 248, 209, 140],\n",
       "       [257, 264, 266, 239],\n",
       "       [310, 281, 267, 306]])"
      ]
     },
     "execution_count": 152,
     "metadata": {},
     "output_type": "execute_result"
    }
   ],
   "source": [
    "np.cumsum(b,axis=0)"
   ]
  },
  {
   "cell_type": "code",
   "execution_count": 153,
   "id": "4c59f509-4345-4d1d-8ed7-92262606d157",
   "metadata": {},
   "outputs": [
    {
     "data": {
      "text/plain": [
       "array([         72,         792,       19008,      817344,    33511104,\n",
       "          33511104, -1882167808,  2022699008, -1392836608,   121110528,\n",
       "         363331584,  -661651456, -1357905920,  -815792128, -2134900736])"
      ]
     },
     "execution_count": 153,
     "metadata": {},
     "output_type": "execute_result"
    }
   ],
   "source": [
    "## np.cumprod\n",
    "np.cumprod(a)"
   ]
  },
  {
   "cell_type": "code",
   "execution_count": 154,
   "id": "1a575920-fd89-49fb-9e29-2f001c7bd07a",
   "metadata": {},
   "outputs": [
    {
     "data": {
      "text/plain": [
       "array([[        87,         16,         33,         13],\n",
       "       [      2349,       1536,       2838,        910],\n",
       "       [     86913,      76800,     204336,      24570],\n",
       "       [   4606389,    6604800,    3678048,     737100],\n",
       "       [ 244138617,  105676800,  209648736,   72972900],\n",
       "       [  54444813, 1796505600,  209648736,  594217004]])"
      ]
     },
     "execution_count": 154,
     "metadata": {},
     "output_type": "execute_result"
    }
   ],
   "source": [
    "np.cumprod(b,axis=0)"
   ]
  },
  {
   "cell_type": "markdown",
   "id": "06cf740a-6e4a-4667-80e0-5e7b4c0b1c3f",
   "metadata": {},
   "source": [
    "## np.percentile\n",
    "- numpy.percentile()function used to compute the nth percentile of the given data (array elements) along the specified axis.\n",
    "- ki poriman luk/value current value er cheye piche (0 percentile -> lowest , 100 -> Highest , 50 -> median )\n",
    "- 75%tile means ki poriman value/luk pichone "
   ]
  },
  {
   "cell_type": "code",
   "execution_count": 155,
   "id": "6a334625-8650-4dc5-b84e-c3628488ae6c",
   "metadata": {},
   "outputs": [
    {
     "data": {
      "text/plain": [
       "array([72, 11, 24, 43, 41,  1, 72, 40, 80, 40,  3, 10, 41, 86, 50])"
      ]
     },
     "execution_count": 155,
     "metadata": {},
     "output_type": "execute_result"
    }
   ],
   "source": [
    "a"
   ]
  },
  {
   "cell_type": "code",
   "execution_count": 156,
   "id": "ec96e8b3-cb27-4bf3-9d5d-e41f84ba49de",
   "metadata": {},
   "outputs": [
    {
     "data": {
      "text/plain": [
       "41.0"
      ]
     },
     "execution_count": 156,
     "metadata": {},
     "output_type": "execute_result"
    }
   ],
   "source": [
    "np.percentile(a,50)"
   ]
  },
  {
   "cell_type": "code",
   "execution_count": 157,
   "id": "9b5f535c-3862-4f19-a666-87c82b5f8123",
   "metadata": {},
   "outputs": [
    {
     "data": {
      "text/plain": [
       "86"
      ]
     },
     "execution_count": 157,
     "metadata": {},
     "output_type": "execute_result"
    }
   ],
   "source": [
    "np.max(a)"
   ]
  },
  {
   "cell_type": "code",
   "execution_count": 158,
   "id": "72400785-831f-4cbe-9862-dcac99f9801c",
   "metadata": {},
   "outputs": [
    {
     "data": {
      "text/plain": [
       "86.0"
      ]
     },
     "execution_count": 158,
     "metadata": {},
     "output_type": "execute_result"
    }
   ],
   "source": [
    "np.percentile(a,100)"
   ]
  },
  {
   "cell_type": "markdown",
   "id": "3815728e-ca9d-48a8-be3f-9043a3cfde57",
   "metadata": {},
   "source": [
    "## np.histogram\n",
    "- Numpy has a built-in numpy.histogram() function which represents the frequency of data distribution in the graphical form.\n",
    "- It basically check frequency in a given range"
   ]
  },
  {
   "cell_type": "code",
   "execution_count": 159,
   "id": "c9c92c7e-0610-407a-9229-43c5cd6fd0a8",
   "metadata": {},
   "outputs": [
    {
     "data": {
      "text/plain": [
       "array([72, 11, 24, 43, 41,  1, 72, 40, 80, 40,  3, 10, 41, 86, 50])"
      ]
     },
     "execution_count": 159,
     "metadata": {},
     "output_type": "execute_result"
    }
   ],
   "source": [
    "a"
   ]
  },
  {
   "cell_type": "code",
   "execution_count": 160,
   "id": "feb8f1d4-bf50-4f57-8e2c-1395ad79ea8a",
   "metadata": {},
   "outputs": [
    {
     "data": {
      "text/plain": [
       "(array([2, 2, 1, 0, 5, 1, 0, 2, 2, 0], dtype=int64),\n",
       " array([  0,  10,  20,  30,  40,  50,  60,  70,  80,  90, 100]))"
      ]
     },
     "execution_count": 160,
     "metadata": {},
     "output_type": "execute_result"
    }
   ],
   "source": [
    "np.histogram(a,bins=[0,10,20,30,40,50,60,70,80,90,100])"
   ]
  },
  {
   "cell_type": "markdown",
   "id": "e2a2b35c-ea53-4526-be39-e55b59370067",
   "metadata": {},
   "source": [
    "## np.corrcoef\n",
    "- Return Pearson product-moment correlation coefficients."
   ]
  },
  {
   "cell_type": "code",
   "execution_count": 161,
   "id": "21052485-c2b0-45be-9952-620396587009",
   "metadata": {},
   "outputs": [
    {
     "data": {
      "text/plain": [
       "array([[1.        , 0.25344572],\n",
       "       [0.25344572, 1.        ]])"
      ]
     },
     "execution_count": 161,
     "metadata": {},
     "output_type": "execute_result"
    }
   ],
   "source": [
    "salary = np.array([20000,40000,25000,35000,60000])\n",
    "experience = np.array([1,3,2,4,2])\n",
    "\n",
    "np.corrcoef(salary,experience)"
   ]
  },
  {
   "cell_type": "markdown",
   "id": "c9eec017-a787-4f1a-9adc-440fbd79444d",
   "metadata": {},
   "source": [
    "## np.isin\n",
    "- With the help of numpy.isin() method, we can see that one array having values are checked in a different numpy array having different elements with different sizes.\n",
    "\n",
    "- Eksathe multipe item search korte use hoy .suppose i have 5 numbers then i have to check those number against any array ."
   ]
  },
  {
   "cell_type": "code",
   "execution_count": 162,
   "id": "540f1122-903f-4562-a747-64921a9b806b",
   "metadata": {},
   "outputs": [
    {
     "data": {
      "text/plain": [
       "array([72, 11, 24, 43, 41,  1, 72, 40, 80, 40,  3, 10, 41, 86, 50])"
      ]
     },
     "execution_count": 162,
     "metadata": {},
     "output_type": "execute_result"
    }
   ],
   "source": [
    "a"
   ]
  },
  {
   "cell_type": "code",
   "execution_count": 163,
   "id": "ea18457d-e516-4abc-961e-60cc2b648c64",
   "metadata": {},
   "outputs": [
    {
     "data": {
      "text/plain": [
       "array([40, 80, 40, 10, 50])"
      ]
     },
     "execution_count": 163,
     "metadata": {},
     "output_type": "execute_result"
    }
   ],
   "source": [
    "#np.isin \n",
    "items = np.array([10,20,30,40,50,60,70,80,90,100])\n",
    "#np.isin(a,items)  # check is there any matches\n",
    "a[np.isin(a,items)] # Matches items array"
   ]
  },
  {
   "cell_type": "markdown",
   "id": "ce640d67-6b06-4388-83e2-07f20f0f627a",
   "metadata": {},
   "source": [
    "# np.flip \n",
    "- The numpy.flip() function reverses the order of array elements along the specified axis, preserving the shape of the array."
   ]
  },
  {
   "cell_type": "code",
   "execution_count": 164,
   "id": "2b9e328c-1a18-4b4d-84f3-6a51323b4a6e",
   "metadata": {},
   "outputs": [
    {
     "data": {
      "text/plain": [
       "array([72, 11, 24, 43, 41,  1, 72, 40, 80, 40,  3, 10, 41, 86, 50])"
      ]
     },
     "execution_count": 164,
     "metadata": {},
     "output_type": "execute_result"
    }
   ],
   "source": [
    "a"
   ]
  },
  {
   "cell_type": "code",
   "execution_count": 165,
   "id": "11a22561-c69b-4ff2-b50e-5057883967bb",
   "metadata": {},
   "outputs": [
    {
     "data": {
      "text/plain": [
       "array([50, 86, 41, 10,  3, 40, 80, 40, 72,  1, 41, 43, 24, 11, 72])"
      ]
     },
     "execution_count": 165,
     "metadata": {},
     "output_type": "execute_result"
    }
   ],
   "source": [
    "np.flip(a) # Order reverse kore dey. Jeta shurute oita sheshe hobe"
   ]
  },
  {
   "cell_type": "code",
   "execution_count": 166,
   "id": "18d3fbee-085f-43b7-9d33-f6fe88bd7159",
   "metadata": {},
   "outputs": [
    {
     "data": {
      "text/plain": [
       "array([[87, 16, 33, 13],\n",
       "       [27, 96, 86, 70],\n",
       "       [37, 50, 72, 27],\n",
       "       [53, 86, 18, 30],\n",
       "       [53, 16, 57, 99],\n",
       "       [53, 17,  1, 67]])"
      ]
     },
     "execution_count": 166,
     "metadata": {},
     "output_type": "execute_result"
    }
   ],
   "source": [
    "b"
   ]
  },
  {
   "cell_type": "code",
   "execution_count": 167,
   "id": "5e492138-ef4d-4a7d-9aed-4259eb48b5c6",
   "metadata": {},
   "outputs": [
    {
     "data": {
      "text/plain": [
       "array([[67,  1, 17, 53],\n",
       "       [99, 57, 16, 53],\n",
       "       [30, 18, 86, 53],\n",
       "       [27, 72, 50, 37],\n",
       "       [70, 86, 96, 27],\n",
       "       [13, 33, 16, 87]])"
      ]
     },
     "execution_count": 167,
     "metadata": {},
     "output_type": "execute_result"
    }
   ],
   "source": [
    "np.flip(b) # Row and column both order has been changed"
   ]
  },
  {
   "cell_type": "code",
   "execution_count": 168,
   "id": "d7b2c4ff-c9eb-4e1c-be54-5b643acf959f",
   "metadata": {},
   "outputs": [
    {
     "data": {
      "text/plain": [
       "array([[53, 17,  1, 67],\n",
       "       [53, 16, 57, 99],\n",
       "       [53, 86, 18, 30],\n",
       "       [37, 50, 72, 27],\n",
       "       [27, 96, 86, 70],\n",
       "       [87, 16, 33, 13]])"
      ]
     },
     "execution_count": 168,
     "metadata": {},
     "output_type": "execute_result"
    }
   ],
   "source": [
    "np.flip(b,axis=0) # only row"
   ]
  },
  {
   "cell_type": "markdown",
   "id": "97533ebf-bfe2-4488-bb4c-6c534b1f87e1",
   "metadata": {},
   "source": [
    "## np.put\n",
    "- jkuno array te any place ba index a value permanently change ba replace kore"
   ]
  },
  {
   "cell_type": "code",
   "execution_count": 169,
   "id": "ab5c2371-3e60-45bf-86d2-d818fde22551",
   "metadata": {},
   "outputs": [
    {
     "data": {
      "text/plain": [
       "array([72, 11, 24, 43, 41,  1, 72, 40, 80, 40,  3, 10, 41, 86, 50])"
      ]
     },
     "execution_count": 169,
     "metadata": {},
     "output_type": "execute_result"
    }
   ],
   "source": [
    "a\n"
   ]
  },
  {
   "cell_type": "code",
   "execution_count": 170,
   "id": "b0695ea5-eab4-4b2b-9560-900a9f0ed546",
   "metadata": {},
   "outputs": [],
   "source": [
    "np.put(a,[2,5],[630,500])"
   ]
  },
  {
   "cell_type": "code",
   "execution_count": 171,
   "id": "bc74eb28-8534-4758-9ed1-69ab1c63021c",
   "metadata": {},
   "outputs": [
    {
     "data": {
      "text/plain": [
       "array([ 72,  11, 630,  43,  41, 500,  72,  40,  80,  40,   3,  10,  41,\n",
       "        86,  50])"
      ]
     },
     "execution_count": 171,
     "metadata": {},
     "output_type": "execute_result"
    }
   ],
   "source": [
    "a"
   ]
  },
  {
   "cell_type": "markdown",
   "id": "41232429-2fe1-42c5-9929-8fc45cc2c176",
   "metadata": {},
   "source": [
    "## np.delete\n",
    "- Can delete temporary\n",
    "- jokhon run korle output ashbe tokhon temporary\n",
    "- multiple item delete kora jay"
   ]
  },
  {
   "cell_type": "code",
   "execution_count": 172,
   "id": "ca2b6ea7-c37b-41d4-82bb-d2f2064ff602",
   "metadata": {},
   "outputs": [
    {
     "data": {
      "text/plain": [
       "array([ 72,  11, 630,  43,  41, 500,  72,  40,  80,  40,   3,  10,  41,\n",
       "        86,  50])"
      ]
     },
     "execution_count": 172,
     "metadata": {},
     "output_type": "execute_result"
    }
   ],
   "source": [
    "a\n"
   ]
  },
  {
   "cell_type": "code",
   "execution_count": 173,
   "id": "f288e0ce-f4c4-439b-9613-7f38ff1817d5",
   "metadata": {},
   "outputs": [
    {
     "data": {
      "text/plain": [
       "array([ 72,  11, 630,  41, 500,  72,  40,  80,  40,   3,  10,  41,  86,\n",
       "        50])"
      ]
     },
     "execution_count": 173,
     "metadata": {},
     "output_type": "execute_result"
    }
   ],
   "source": [
    "np.delete(a,3)"
   ]
  },
  {
   "cell_type": "code",
   "execution_count": 174,
   "id": "d21cd4cf-6440-49bc-a4f2-7648295506da",
   "metadata": {},
   "outputs": [
    {
     "data": {
      "text/plain": [
       "array([ 72,  11, 630,  43,  41, 500,  72,  40,  80,  40,   3,  10,  41,\n",
       "        86,  50])"
      ]
     },
     "execution_count": 174,
     "metadata": {},
     "output_type": "execute_result"
    }
   ],
   "source": [
    "a\n"
   ]
  },
  {
   "cell_type": "code",
   "execution_count": 175,
   "id": "aa9b0938-722a-43c7-b632-1f5a51d5a9f2",
   "metadata": {},
   "outputs": [
    {
     "data": {
      "text/plain": [
       "array([ 11, 630,  41,  72,  40,  80,  40,   3,  10,  41,  86,  50])"
      ]
     },
     "execution_count": 175,
     "metadata": {},
     "output_type": "execute_result"
    }
   ],
   "source": [
    "np.delete(a,[0,3,5])"
   ]
  },
  {
   "cell_type": "markdown",
   "id": "88741292-bf00-4f6b-bffa-3bd528cf440f",
   "metadata": {},
   "source": [
    "## Set functions\n",
    "- np.union1d\n",
    "- np.intersect1d\n",
    "- np.setdiff1d\n",
    "- np.setxor1d\n",
    "- np.in1d"
   ]
  },
  {
   "cell_type": "code",
   "execution_count": 176,
   "id": "aabe870b-c0b3-41cf-a041-d1d1094081a6",
   "metadata": {},
   "outputs": [
    {
     "data": {
      "text/plain": [
       "array([1, 2, 3, 4, 5, 6, 7])"
      ]
     },
     "execution_count": 176,
     "metadata": {},
     "output_type": "execute_result"
    }
   ],
   "source": [
    "m = np.array([1,2,3,4,5])\n",
    "n = np.array([3,4,5,6,7])\n",
    "\n",
    "np.union1d(m,n)"
   ]
  },
  {
   "cell_type": "code",
   "execution_count": 177,
   "id": "e45db529-be0c-4264-9afa-03a6351fe16a",
   "metadata": {},
   "outputs": [
    {
     "data": {
      "text/plain": [
       "array([3, 4, 5])"
      ]
     },
     "execution_count": 177,
     "metadata": {},
     "output_type": "execute_result"
    }
   ],
   "source": [
    "np.intersect1d(m,n)"
   ]
  },
  {
   "cell_type": "code",
   "execution_count": 178,
   "id": "e9ae0b98-aef5-4d9c-8978-801e17c50166",
   "metadata": {},
   "outputs": [
    {
     "data": {
      "text/plain": [
       "array([6, 7])"
      ]
     },
     "execution_count": 178,
     "metadata": {},
     "output_type": "execute_result"
    }
   ],
   "source": [
    "np.setdiff1d(n,m)"
   ]
  },
  {
   "cell_type": "code",
   "execution_count": 179,
   "id": "ce1f162a-07cf-442e-81d5-e1138056b1f8",
   "metadata": {},
   "outputs": [
    {
     "data": {
      "text/plain": [
       "array([1, 2, 6, 7])"
      ]
     },
     "execution_count": 179,
     "metadata": {},
     "output_type": "execute_result"
    }
   ],
   "source": [
    "np.setxor1d(m,n) # common gula baade sobgula"
   ]
  },
  {
   "cell_type": "code",
   "execution_count": 180,
   "id": "6d341111-9e46-4104-a269-08ca7fdd607c",
   "metadata": {},
   "outputs": [
    {
     "data": {
      "text/plain": [
       "array([1])"
      ]
     },
     "execution_count": 180,
     "metadata": {},
     "output_type": "execute_result"
    }
   ],
   "source": [
    "m[np.in1d(m,1)] # given number ache ki na where 1 is a element"
   ]
  },
  {
   "cell_type": "markdown",
   "id": "9cce0b58-546f-4ad8-939e-696cec239182",
   "metadata": {},
   "source": [
    "## np.clip \n",
    "- ekta range a rakhe value-gula\n",
    "- suppose ami chai amr value gula jeno 25 theke 75 er modde hoy .j gula 25 theke chuto oigula 25 dara replace hobe and Boro value 75 dara"
   ]
  },
  {
   "cell_type": "code",
   "execution_count": 181,
   "id": "8bc376aa-73ed-4315-b7cc-6f8e39d5ca84",
   "metadata": {},
   "outputs": [
    {
     "data": {
      "text/plain": [
       "array([ 72,  11, 630,  43,  41, 500,  72,  40,  80,  40,   3,  10,  41,\n",
       "        86,  50])"
      ]
     },
     "execution_count": 181,
     "metadata": {},
     "output_type": "execute_result"
    }
   ],
   "source": [
    "a"
   ]
  },
  {
   "cell_type": "code",
   "execution_count": 182,
   "id": "fd539ff6-c719-48b5-851d-0459062feb1a",
   "metadata": {},
   "outputs": [
    {
     "data": {
      "text/plain": [
       "array([72, 25, 75, 43, 41, 75, 72, 40, 75, 40, 25, 25, 41, 75, 50])"
      ]
     },
     "execution_count": 182,
     "metadata": {},
     "output_type": "execute_result"
    }
   ],
   "source": [
    "np.clip(a,a_min=25,a_max=75)"
   ]
  },
  {
   "cell_type": "code",
   "execution_count": 183,
   "id": "514b34c5-7732-4b91-84ba-67611998b798",
   "metadata": {},
   "outputs": [],
   "source": [
    "## 19. np.count_nonzero \n",
    "## 17. np.swapaxesa\n",
    "# 18. np.uniform"
   ]
  }
 ],
 "metadata": {
  "kernelspec": {
   "display_name": "MLenv",
   "language": "python",
   "name": "python3"
  },
  "language_info": {
   "codemirror_mode": {
    "name": "ipython",
    "version": 3
   },
   "file_extension": ".py",
   "mimetype": "text/x-python",
   "name": "python",
   "nbconvert_exporter": "python",
   "pygments_lexer": "ipython3",
   "version": "3.12.4"
  }
 },
 "nbformat": 4,
 "nbformat_minor": 5
}
