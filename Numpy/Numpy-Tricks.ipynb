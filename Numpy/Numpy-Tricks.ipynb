{
 "cells": [
  {
   "cell_type": "markdown",
   "id": "870d3453-e72b-45e4-b7ca-903897288944",
   "metadata": {},
   "source": [
    "## np.sort\n",
    "- Return a sorted copy of an array."
   ]
  },
  {
   "cell_type": "code",
   "execution_count": 1,
   "id": "4a8d85bb-c95f-43e7-97d2-d8cc1a256299",
   "metadata": {},
   "outputs": [
    {
     "data": {
      "text/plain": [
       "array([82, 30, 62, 92,  3, 24, 87, 87, 99, 21, 48, 22, 61, 20, 34])"
      ]
     },
     "execution_count": 1,
     "metadata": {},
     "output_type": "execute_result"
    }
   ],
   "source": [
    "import numpy as np\n",
    "a = np.random.randint(1,100,15)\n",
    "a"
   ]
  },
  {
   "cell_type": "code",
   "execution_count": 2,
   "id": "4459ad5d-da60-40a8-b468-55076dfe6211",
   "metadata": {},
   "outputs": [
    {
     "data": {
      "text/plain": [
       "array([[88, 21, 52, 83],\n",
       "       [44, 72, 14, 14],\n",
       "       [73, 87, 34, 33],\n",
       "       [ 2, 64, 75, 62],\n",
       "       [34,  8, 70, 47],\n",
       "       [44, 21, 47, 41]])"
      ]
     },
     "execution_count": 2,
     "metadata": {},
     "output_type": "execute_result"
    }
   ],
   "source": [
    "b = np.random.randint(1,100,24).reshape(6,4)\n",
    "b"
   ]
  },
  {
   "cell_type": "code",
   "execution_count": 3,
   "id": "a1e2e0d8-920c-4ca1-aff4-81411bdd7e33",
   "metadata": {},
   "outputs": [
    {
     "data": {
      "text/plain": [
       "array([ 3, 20, 21, 22, 24, 30, 34, 48, 61, 62, 82, 87, 87, 92, 99])"
      ]
     },
     "execution_count": 3,
     "metadata": {},
     "output_type": "execute_result"
    }
   ],
   "source": [
    "#sort \n",
    "np.sort(a)"
   ]
  },
  {
   "cell_type": "code",
   "execution_count": 4,
   "id": "f536fc5a-628d-4a42-bcba-bdb95479726d",
   "metadata": {},
   "outputs": [
    {
     "data": {
      "text/plain": [
       "array([99, 92, 87, 87, 82, 62, 61, 48, 34, 30, 24, 22, 21, 20,  3])"
      ]
     },
     "execution_count": 4,
     "metadata": {},
     "output_type": "execute_result"
    }
   ],
   "source": [
    "#Descending Order\n",
    "np.sort(a)[::-1]"
   ]
  },
  {
   "cell_type": "code",
   "execution_count": 5,
   "id": "cfd190ad-8307-4c00-b70e-fb045cc22a5d",
   "metadata": {},
   "outputs": [
    {
     "data": {
      "text/plain": [
       "array([[ 2,  8, 14, 14],\n",
       "       [34, 21, 34, 33],\n",
       "       [44, 21, 47, 41],\n",
       "       [44, 64, 52, 47],\n",
       "       [73, 72, 70, 62],\n",
       "       [88, 87, 75, 83]])"
      ]
     },
     "execution_count": 5,
     "metadata": {},
     "output_type": "execute_result"
    }
   ],
   "source": [
    "np.sort(b,axis=0)"
   ]
  },
  {
   "cell_type": "markdown",
   "id": "ce756718-b168-4ccf-963a-5e1ec3c1a40b",
   "metadata": {},
   "source": [
    "## np.append\n",
    "- The numpy.append() appends values along the mentioned axis at the end of the array"
   ]
  },
  {
   "cell_type": "code",
   "execution_count": 6,
   "id": "3e77d42d-5234-408a-bbaf-5d37e3b8757b",
   "metadata": {},
   "outputs": [
    {
     "data": {
      "text/plain": [
       "array([82, 30, 62, 92,  3, 24, 87, 87, 99, 21, 48, 22, 61, 20, 34])"
      ]
     },
     "execution_count": 6,
     "metadata": {},
     "output_type": "execute_result"
    }
   ],
   "source": [
    "a\n"
   ]
  },
  {
   "cell_type": "code",
   "execution_count": 7,
   "id": "0215eea6-5f5f-45c6-9c8d-129e389fb0c1",
   "metadata": {},
   "outputs": [
    {
     "data": {
      "text/plain": [
       "array([ 82,  30,  62,  92,   3,  24,  87,  87,  99,  21,  48,  22,  61,\n",
       "        20,  34, 200])"
      ]
     },
     "execution_count": 7,
     "metadata": {},
     "output_type": "execute_result"
    }
   ],
   "source": [
    "np.append(a,200)"
   ]
  },
  {
   "cell_type": "code",
   "execution_count": 8,
   "id": "81a92c55-5155-4a1e-973a-0b824c7e27ca",
   "metadata": {},
   "outputs": [
    {
     "data": {
      "text/plain": [
       "array([[88, 21, 52, 83],\n",
       "       [44, 72, 14, 14],\n",
       "       [73, 87, 34, 33],\n",
       "       [ 2, 64, 75, 62],\n",
       "       [34,  8, 70, 47],\n",
       "       [44, 21, 47, 41]])"
      ]
     },
     "execution_count": 8,
     "metadata": {},
     "output_type": "execute_result"
    }
   ],
   "source": [
    "b"
   ]
  },
  {
   "cell_type": "code",
   "execution_count": 9,
   "id": "00c6c33a-3caf-4d4d-9523-5791bc13b537",
   "metadata": {},
   "outputs": [
    {
     "data": {
      "text/plain": [
       "array([[88.        , 21.        , 52.        , 83.        ,  0.97522481],\n",
       "       [44.        , 72.        , 14.        , 14.        ,  0.27838592],\n",
       "       [73.        , 87.        , 34.        , 33.        ,  0.91735699],\n",
       "       [ 2.        , 64.        , 75.        , 62.        ,  0.36018798],\n",
       "       [34.        ,  8.        , 70.        , 47.        ,  0.81520215],\n",
       "       [44.        , 21.        , 47.        , 41.        ,  0.92568978]])"
      ]
     },
     "execution_count": 9,
     "metadata": {},
     "output_type": "execute_result"
    }
   ],
   "source": [
    "np.append(b,np.random.random((b.shape[0],1)),axis=1)"
   ]
  },
  {
   "cell_type": "markdown",
   "id": "17fe052b-4193-4e88-a665-1f28d3de319f",
   "metadata": {},
   "source": [
    "## np.concatenate\n",
    "\n",
    "- numpy.concatenate() function concatenate a sequence of arrays along an existing axis.\n",
    "\n"
   ]
  },
  {
   "cell_type": "code",
   "execution_count": 10,
   "id": "380b1be1-a4d6-490e-bdb2-c5435c2e94a5",
   "metadata": {},
   "outputs": [
    {
     "name": "stdout",
     "output_type": "stream",
     "text": [
      "[[0 1 2]\n",
      " [3 4 5]]\n",
      "[[ 6  7  8]\n",
      " [ 9 10 11]]\n"
     ]
    }
   ],
   "source": [
    "c= np.arange(6).reshape(2,3)\n",
    "d = np.arange(6,12).reshape(2,3)\n",
    "print(c)\n",
    "print(d)"
   ]
  },
  {
   "cell_type": "code",
   "execution_count": 11,
   "id": "e018def0-de7c-41a6-b09a-7a66b079733b",
   "metadata": {},
   "outputs": [
    {
     "data": {
      "text/plain": [
       "array([[ 0,  1,  2],\n",
       "       [ 3,  4,  5],\n",
       "       [ 6,  7,  8],\n",
       "       [ 9, 10, 11]])"
      ]
     },
     "execution_count": 11,
     "metadata": {},
     "output_type": "execute_result"
    }
   ],
   "source": [
    "np.concatenate((c,d),axis= 0) # 0 --> row-wise"
   ]
  },
  {
   "cell_type": "code",
   "execution_count": 12,
   "id": "4e5d7535-7890-4a07-b74e-64e2802aaaf2",
   "metadata": {},
   "outputs": [
    {
     "data": {
      "text/plain": [
       "array([[ 0,  1,  2,  6,  7,  8],\n",
       "       [ 3,  4,  5,  9, 10, 11]])"
      ]
     },
     "execution_count": 12,
     "metadata": {},
     "output_type": "execute_result"
    }
   ],
   "source": [
    "np.concatenate((c,d),axis= 1) # 1 --> column-wise"
   ]
  },
  {
   "cell_type": "markdown",
   "id": "4c903fad-9cf4-4470-b9a2-f6736b73dedb",
   "metadata": {},
   "source": [
    "## np.unique\n",
    "- With the help of np.unique() method, we can get the unique values from an array given as parameter in np.unique() method."
   ]
  },
  {
   "cell_type": "code",
   "execution_count": 13,
   "id": "85ccaf6f-b7ec-4561-955f-6f8c1201c907",
   "metadata": {},
   "outputs": [
    {
     "data": {
      "text/plain": [
       "array([82, 30, 62, 92,  3, 24, 87, 87, 99, 21, 48, 22, 61, 20, 34])"
      ]
     },
     "execution_count": 13,
     "metadata": {},
     "output_type": "execute_result"
    }
   ],
   "source": [
    "a\n"
   ]
  },
  {
   "cell_type": "code",
   "execution_count": 14,
   "id": "476f7f55-9833-47ce-8f5c-4a645f5ca01a",
   "metadata": {},
   "outputs": [
    {
     "data": {
      "text/plain": [
       "array([ 3, 20, 21, 22, 24, 30, 34, 48, 61, 62, 82, 87, 92, 99])"
      ]
     },
     "execution_count": 14,
     "metadata": {},
     "output_type": "execute_result"
    }
   ],
   "source": [
    "# Finding the unique value\n",
    "np.unique(a)"
   ]
  },
  {
   "cell_type": "markdown",
   "id": "5226e8fa-8e0e-4e96-91db-f40ff38e56c1",
   "metadata": {},
   "source": [
    "## np.expand_dims\n",
    "- With the help of np.expand_dims() method, we can get the expanded dimensions of an array"
   ]
  },
  {
   "cell_type": "code",
   "execution_count": 15,
   "id": "471f3c7c-ee02-4d3c-a66c-49a11c73c1ca",
   "metadata": {},
   "outputs": [
    {
     "data": {
      "text/plain": [
       "array([82, 30, 62, 92,  3, 24, 87, 87, 99, 21, 48, 22, 61, 20, 34])"
      ]
     },
     "execution_count": 15,
     "metadata": {},
     "output_type": "execute_result"
    }
   ],
   "source": [
    "a"
   ]
  },
  {
   "cell_type": "code",
   "execution_count": 16,
   "id": "1b7bec52-85b2-4424-868b-34717615dd2b",
   "metadata": {},
   "outputs": [
    {
     "name": "stdout",
     "output_type": "stream",
     "text": [
      "[[82]\n",
      " [30]\n",
      " [62]\n",
      " [92]\n",
      " [ 3]\n",
      " [24]\n",
      " [87]\n",
      " [87]\n",
      " [99]\n",
      " [21]\n",
      " [48]\n",
      " [22]\n",
      " [61]\n",
      " [20]\n",
      " [34]]\n",
      "(15, 1)\n"
     ]
    }
   ],
   "source": [
    "# syntax of np.expand_dims \n",
    "print(np.expand_dims(a,axis=1))\n",
    "\n",
    "print(np.expand_dims(a,axis=1).shape)"
   ]
  },
  {
   "cell_type": "code",
   "execution_count": 17,
   "id": "34cbff06-1671-4ba9-81ac-f4259f260271",
   "metadata": {},
   "outputs": [
    {
     "name": "stdout",
     "output_type": "stream",
     "text": [
      "[[82 30 62 92  3 24 87 87 99 21 48 22 61 20 34]]\n",
      "(1, 15)\n"
     ]
    }
   ],
   "source": [
    "# column-wise\n",
    "print(np.expand_dims(a,axis=0))\n",
    "print(np.expand_dims(a,axis=0).shape)\n"
   ]
  },
  {
   "cell_type": "markdown",
   "id": "4f5619db-1693-4354-8b73-e789914e4f64",
   "metadata": {},
   "source": [
    "## np.where\n",
    "- The numpy.where() function returns the indices of elements in an input array where the given condition is satisfied.\n",
    "- jkuno condition er jonno index ber kora jay np.where(a> or any condition)\n",
    "- jkuno condition onujayi change kora jay np.where(condition,True hole eta boshbe ,false)"
   ]
  },
  {
   "cell_type": "code",
   "execution_count": 18,
   "id": "67cc5000-5435-4d66-823a-5e71c0205ea9",
   "metadata": {},
   "outputs": [
    {
     "data": {
      "text/plain": [
       "array([82, 30, 62, 92,  3, 24, 87, 87, 99, 21, 48, 22, 61, 20, 34])"
      ]
     },
     "execution_count": 18,
     "metadata": {},
     "output_type": "execute_result"
    }
   ],
   "source": [
    "a"
   ]
  },
  {
   "cell_type": "code",
   "execution_count": 19,
   "id": "59c7c822-6c71-4b30-a688-d8e746e80be9",
   "metadata": {},
   "outputs": [
    {
     "data": {
      "text/plain": [
       "(array([ 0,  2,  3,  6,  7,  8, 12], dtype=int64),)"
      ]
     },
     "execution_count": 19,
     "metadata": {},
     "output_type": "execute_result"
    }
   ],
   "source": [
    "# find all indices with value greater than 50\n",
    "np.where(a>50)"
   ]
  },
  {
   "cell_type": "code",
   "execution_count": 20,
   "id": "5d060856-783a-4f7f-9a44-f5be0832c168",
   "metadata": {},
   "outputs": [
    {
     "data": {
      "text/plain": [
       "array([ 0, 30,  0,  0,  3, 24,  0,  0,  0, 21, 48, 22,  0, 20, 34])"
      ]
     },
     "execution_count": 20,
     "metadata": {},
     "output_type": "execute_result"
    }
   ],
   "source": [
    "# replace all values > 50 with 0\n",
    "\n",
    "np.where(a>50,0,a)"
   ]
  },
  {
   "cell_type": "code",
   "execution_count": 21,
   "id": "0854ba9d-d9e8-40f1-baca-fd4756f82de7",
   "metadata": {},
   "outputs": [
    {
     "data": {
      "text/plain": [
       "array([ 0,  0,  0,  0,  3,  0, 87, 87, 99, 21,  0,  0, 61,  0,  0])"
      ]
     },
     "execution_count": 21,
     "metadata": {},
     "output_type": "execute_result"
    }
   ],
   "source": [
    "# replace all even numbers with 0 \n",
    "np.where(a%2 == 0,0,a)"
   ]
  },
  {
   "cell_type": "markdown",
   "id": "e6150185-2e20-4a4c-af4f-7f618a75fe99",
   "metadata": {},
   "source": [
    "## np.argmax\n",
    "- The numpy.argmax() function returns indices of the max element of the array in a particular axis."
   ]
  },
  {
   "cell_type": "code",
   "execution_count": 22,
   "id": "ff864dc5-67df-4a4b-bbd1-2f8daf0c57af",
   "metadata": {},
   "outputs": [
    {
     "data": {
      "text/plain": [
       "array([82, 30, 62, 92,  3, 24, 87, 87, 99, 21, 48, 22, 61, 20, 34])"
      ]
     },
     "execution_count": 22,
     "metadata": {},
     "output_type": "execute_result"
    }
   ],
   "source": [
    "a"
   ]
  },
  {
   "cell_type": "code",
   "execution_count": 23,
   "id": "c042dfc7-18c6-4db2-9e2f-868306c926f1",
   "metadata": {},
   "outputs": [
    {
     "data": {
      "text/plain": [
       "8"
      ]
     },
     "execution_count": 23,
     "metadata": {},
     "output_type": "execute_result"
    }
   ],
   "source": [
    "np.argmax(a)"
   ]
  },
  {
   "cell_type": "code",
   "execution_count": 24,
   "id": "5dde2b6b-4e18-4acb-a8b0-178c6393c084",
   "metadata": {},
   "outputs": [
    {
     "data": {
      "text/plain": [
       "array([[88, 21, 52, 83],\n",
       "       [44, 72, 14, 14],\n",
       "       [73, 87, 34, 33],\n",
       "       [ 2, 64, 75, 62],\n",
       "       [34,  8, 70, 47],\n",
       "       [44, 21, 47, 41]])"
      ]
     },
     "execution_count": 24,
     "metadata": {},
     "output_type": "execute_result"
    }
   ],
   "source": [
    "b"
   ]
  },
  {
   "cell_type": "code",
   "execution_count": 25,
   "id": "dfac2e62-8a27-48af-8d58-1f1628fc00dd",
   "metadata": {},
   "outputs": [
    {
     "data": {
      "text/plain": [
       "array([0, 2, 3, 0], dtype=int64)"
      ]
     },
     "execution_count": 25,
     "metadata": {},
     "output_type": "execute_result"
    }
   ],
   "source": [
    "np.argmax(b,axis=0)"
   ]
  },
  {
   "cell_type": "markdown",
   "id": "2c936e9d-ef55-486b-9024-03162f0544ae",
   "metadata": {},
   "source": [
    "## np.argmin"
   ]
  },
  {
   "cell_type": "code",
   "execution_count": 26,
   "id": "af441d22-0114-47e9-b39a-0a100d53517d",
   "metadata": {},
   "outputs": [
    {
     "data": {
      "text/plain": [
       "array([1, 2, 3, 0, 1, 1], dtype=int64)"
      ]
     },
     "execution_count": 26,
     "metadata": {},
     "output_type": "execute_result"
    }
   ],
   "source": [
    "# argmin\n",
    "np.argmin(b,axis=1)"
   ]
  },
  {
   "cell_type": "markdown",
   "id": "e6c30b40-7d9a-444f-9711-4a57db06b1f8",
   "metadata": {},
   "source": [
    "## np.cumsum\n",
    "1. previous value jug hoy\n",
    "2. suppose Cricketer er previous match er runlist = 50,20,65,45,85,50,0,5 .prottek match er por jodi ba agee jante chawa hoy tar total run koto tolhon jevabe amra prothom (50+20=70) then next match (70+65= total) evabe jug hoy"
   ]
  },
  {
   "cell_type": "code",
   "execution_count": 27,
   "id": "064d56ac-d01d-4cf7-aae5-6270796d1424",
   "metadata": {},
   "outputs": [
    {
     "data": {
      "text/plain": [
       "array([82, 30, 62, 92,  3, 24, 87, 87, 99, 21, 48, 22, 61, 20, 34])"
      ]
     },
     "execution_count": 27,
     "metadata": {},
     "output_type": "execute_result"
    }
   ],
   "source": [
    "# np.cumsum \n",
    "a"
   ]
  },
  {
   "cell_type": "code",
   "execution_count": 28,
   "id": "a600eaf2-f4f8-4293-8ad3-70d13311c190",
   "metadata": {},
   "outputs": [
    {
     "data": {
      "text/plain": [
       "array([ 82, 112, 174, 266, 269, 293, 380, 467, 566, 587, 635, 657, 718,\n",
       "       738, 772])"
      ]
     },
     "execution_count": 28,
     "metadata": {},
     "output_type": "execute_result"
    }
   ],
   "source": [
    "np.cumsum(a)"
   ]
  },
  {
   "cell_type": "code",
   "execution_count": 29,
   "id": "1fd011c7-3cad-44d9-9ec8-584f3e5ee630",
   "metadata": {},
   "outputs": [
    {
     "data": {
      "text/plain": [
       "array([[88, 21, 52, 83],\n",
       "       [44, 72, 14, 14],\n",
       "       [73, 87, 34, 33],\n",
       "       [ 2, 64, 75, 62],\n",
       "       [34,  8, 70, 47],\n",
       "       [44, 21, 47, 41]])"
      ]
     },
     "execution_count": 29,
     "metadata": {},
     "output_type": "execute_result"
    }
   ],
   "source": [
    "b"
   ]
  },
  {
   "cell_type": "code",
   "execution_count": 30,
   "id": "16954369-ce98-4dbe-b426-027febacb1e9",
   "metadata": {},
   "outputs": [
    {
     "data": {
      "text/plain": [
       "array([[ 88,  21,  52,  83],\n",
       "       [132,  93,  66,  97],\n",
       "       [205, 180, 100, 130],\n",
       "       [207, 244, 175, 192],\n",
       "       [241, 252, 245, 239],\n",
       "       [285, 273, 292, 280]])"
      ]
     },
     "execution_count": 30,
     "metadata": {},
     "output_type": "execute_result"
    }
   ],
   "source": [
    "np.cumsum(b,axis=0)"
   ]
  },
  {
   "cell_type": "code",
   "execution_count": 31,
   "id": "4c59f509-4345-4d1d-8ed7-92262606d157",
   "metadata": {},
   "outputs": [
    {
     "data": {
      "text/plain": [
       "array([         82,        2460,      152520,    14031840,    42095520,\n",
       "        1010292480,  1996099840,  1861994240,  -346163968,  1320491264,\n",
       "       -1040928768, -1425596416, -1062035456,   234127360,  -629604352])"
      ]
     },
     "execution_count": 31,
     "metadata": {},
     "output_type": "execute_result"
    }
   ],
   "source": [
    "## np.cumprod\n",
    "np.cumprod(a)"
   ]
  },
  {
   "cell_type": "code",
   "execution_count": 32,
   "id": "1a575920-fd89-49fb-9e29-2f001c7bd07a",
   "metadata": {},
   "outputs": [
    {
     "data": {
      "text/plain": [
       "array([[        88,         21,         52,         83],\n",
       "       [      3872,       1512,        728,       1162],\n",
       "       [    282656,     131544,      24752,      38346],\n",
       "       [    565312,    8418816,    1856400,    2377452],\n",
       "       [  19220608,   67350528,  129948000,  111740244],\n",
       "       [ 845706752, 1414361088, 1812588704,  286382708]])"
      ]
     },
     "execution_count": 32,
     "metadata": {},
     "output_type": "execute_result"
    }
   ],
   "source": [
    "np.cumprod(b,axis=0)"
   ]
  },
  {
   "cell_type": "markdown",
   "id": "06cf740a-6e4a-4667-80e0-5e7b4c0b1c3f",
   "metadata": {},
   "source": [
    "## np.percentile\n",
    "- numpy.percentile()function used to compute the nth percentile of the given data (array elements) along the specified axis.\n",
    "- ki poriman luk/value current value er cheye piche (0 percentile -> lowest , 100 -> Highest , 50 -> median )\n",
    "- 75%tile means ki poriman value/luk pichone "
   ]
  },
  {
   "cell_type": "code",
   "execution_count": 33,
   "id": "6a334625-8650-4dc5-b84e-c3628488ae6c",
   "metadata": {},
   "outputs": [
    {
     "data": {
      "text/plain": [
       "array([82, 30, 62, 92,  3, 24, 87, 87, 99, 21, 48, 22, 61, 20, 34])"
      ]
     },
     "execution_count": 33,
     "metadata": {},
     "output_type": "execute_result"
    }
   ],
   "source": [
    "a"
   ]
  },
  {
   "cell_type": "code",
   "execution_count": 34,
   "id": "ec96e8b3-cb27-4bf3-9d5d-e41f84ba49de",
   "metadata": {},
   "outputs": [
    {
     "data": {
      "text/plain": [
       "48.0"
      ]
     },
     "execution_count": 34,
     "metadata": {},
     "output_type": "execute_result"
    }
   ],
   "source": [
    "np.percentile(a,50)"
   ]
  },
  {
   "cell_type": "code",
   "execution_count": 35,
   "id": "9b5f535c-3862-4f19-a666-87c82b5f8123",
   "metadata": {},
   "outputs": [
    {
     "data": {
      "text/plain": [
       "99"
      ]
     },
     "execution_count": 35,
     "metadata": {},
     "output_type": "execute_result"
    }
   ],
   "source": [
    "np.max(a)"
   ]
  },
  {
   "cell_type": "code",
   "execution_count": 36,
   "id": "72400785-831f-4cbe-9862-dcac99f9801c",
   "metadata": {},
   "outputs": [
    {
     "data": {
      "text/plain": [
       "99.0"
      ]
     },
     "execution_count": 36,
     "metadata": {},
     "output_type": "execute_result"
    }
   ],
   "source": [
    "np.percentile(a,100)"
   ]
  },
  {
   "cell_type": "markdown",
   "id": "3815728e-ca9d-48a8-be3f-9043a3cfde57",
   "metadata": {},
   "source": [
    "## np.histogram\n",
    "- Numpy has a built-in numpy.histogram() function which represents the frequency of data distribution in the graphical form.\n",
    "- It basically check frequency in a given range"
   ]
  },
  {
   "cell_type": "code",
   "execution_count": 37,
   "id": "c9c92c7e-0610-407a-9229-43c5cd6fd0a8",
   "metadata": {},
   "outputs": [
    {
     "data": {
      "text/plain": [
       "array([82, 30, 62, 92,  3, 24, 87, 87, 99, 21, 48, 22, 61, 20, 34])"
      ]
     },
     "execution_count": 37,
     "metadata": {},
     "output_type": "execute_result"
    }
   ],
   "source": [
    "a"
   ]
  },
  {
   "cell_type": "code",
   "execution_count": 38,
   "id": "feb8f1d4-bf50-4f57-8e2c-1395ad79ea8a",
   "metadata": {},
   "outputs": [
    {
     "data": {
      "text/plain": [
       "(array([1, 0, 4, 2, 1, 0, 2, 0, 3, 2], dtype=int64),\n",
       " array([  0,  10,  20,  30,  40,  50,  60,  70,  80,  90, 100]))"
      ]
     },
     "execution_count": 38,
     "metadata": {},
     "output_type": "execute_result"
    }
   ],
   "source": [
    "np.histogram(a,bins=[0,10,20,30,40,50,60,70,80,90,100])"
   ]
  },
  {
   "cell_type": "markdown",
   "id": "e2a2b35c-ea53-4526-be39-e55b59370067",
   "metadata": {},
   "source": [
    "## np.corrcoef\n",
    "- Return Pearson product-moment correlation coefficients."
   ]
  },
  {
   "cell_type": "code",
   "execution_count": 39,
   "id": "21052485-c2b0-45be-9952-620396587009",
   "metadata": {},
   "outputs": [
    {
     "data": {
      "text/plain": [
       "array([[1.        , 0.25344572],\n",
       "       [0.25344572, 1.        ]])"
      ]
     },
     "execution_count": 39,
     "metadata": {},
     "output_type": "execute_result"
    }
   ],
   "source": [
    "salary = np.array([20000,40000,25000,35000,60000])\n",
    "experience = np.array([1,3,2,4,2])\n",
    "\n",
    "np.corrcoef(salary,experience)"
   ]
  },
  {
   "cell_type": "markdown",
   "id": "c9eec017-a787-4f1a-9adc-440fbd79444d",
   "metadata": {},
   "source": [
    "## np.isin\n",
    "- With the help of numpy.isin() method, we can see that one array having values are checked in a different numpy array having different elements with different sizes.\n",
    "\n",
    "- Eksathe multipe item search korte use hoy .suppose i have 5 numbers then i have to check those number against any array ."
   ]
  },
  {
   "cell_type": "code",
   "execution_count": 40,
   "id": "540f1122-903f-4562-a747-64921a9b806b",
   "metadata": {},
   "outputs": [
    {
     "data": {
      "text/plain": [
       "array([82, 30, 62, 92,  3, 24, 87, 87, 99, 21, 48, 22, 61, 20, 34])"
      ]
     },
     "execution_count": 40,
     "metadata": {},
     "output_type": "execute_result"
    }
   ],
   "source": [
    "a"
   ]
  },
  {
   "cell_type": "code",
   "execution_count": 41,
   "id": "ea18457d-e516-4abc-961e-60cc2b648c64",
   "metadata": {},
   "outputs": [
    {
     "data": {
      "text/plain": [
       "array([30, 20])"
      ]
     },
     "execution_count": 41,
     "metadata": {},
     "output_type": "execute_result"
    }
   ],
   "source": [
    "#np.isin \n",
    "items = np.array([10,20,30,40,50,60,70,80,90,100])\n",
    "#np.isin(a,items)  # check is there any matches\n",
    "a[np.isin(a,items)] # Matches items array"
   ]
  },
  {
   "cell_type": "markdown",
   "id": "ce640d67-6b06-4388-83e2-07f20f0f627a",
   "metadata": {},
   "source": [
    "# np.flip \n",
    "- The numpy.flip() function reverses the order of array elements along the specified axis, preserving the shape of the array."
   ]
  },
  {
   "cell_type": "code",
   "execution_count": 42,
   "id": "2b9e328c-1a18-4b4d-84f3-6a51323b4a6e",
   "metadata": {},
   "outputs": [
    {
     "data": {
      "text/plain": [
       "array([82, 30, 62, 92,  3, 24, 87, 87, 99, 21, 48, 22, 61, 20, 34])"
      ]
     },
     "execution_count": 42,
     "metadata": {},
     "output_type": "execute_result"
    }
   ],
   "source": [
    "a"
   ]
  },
  {
   "cell_type": "code",
   "execution_count": 43,
   "id": "11a22561-c69b-4ff2-b50e-5057883967bb",
   "metadata": {},
   "outputs": [
    {
     "data": {
      "text/plain": [
       "array([34, 20, 61, 22, 48, 21, 99, 87, 87, 24,  3, 92, 62, 30, 82])"
      ]
     },
     "execution_count": 43,
     "metadata": {},
     "output_type": "execute_result"
    }
   ],
   "source": [
    "np.flip(a) # Order reverse kore dey. Jeta shurute oita sheshe hobe"
   ]
  },
  {
   "cell_type": "code",
   "execution_count": 44,
   "id": "18d3fbee-085f-43b7-9d33-f6fe88bd7159",
   "metadata": {},
   "outputs": [
    {
     "data": {
      "text/plain": [
       "array([[88, 21, 52, 83],\n",
       "       [44, 72, 14, 14],\n",
       "       [73, 87, 34, 33],\n",
       "       [ 2, 64, 75, 62],\n",
       "       [34,  8, 70, 47],\n",
       "       [44, 21, 47, 41]])"
      ]
     },
     "execution_count": 44,
     "metadata": {},
     "output_type": "execute_result"
    }
   ],
   "source": [
    "b"
   ]
  },
  {
   "cell_type": "code",
   "execution_count": 45,
   "id": "5e492138-ef4d-4a7d-9aed-4259eb48b5c6",
   "metadata": {},
   "outputs": [
    {
     "data": {
      "text/plain": [
       "array([[41, 47, 21, 44],\n",
       "       [47, 70,  8, 34],\n",
       "       [62, 75, 64,  2],\n",
       "       [33, 34, 87, 73],\n",
       "       [14, 14, 72, 44],\n",
       "       [83, 52, 21, 88]])"
      ]
     },
     "execution_count": 45,
     "metadata": {},
     "output_type": "execute_result"
    }
   ],
   "source": [
    "np.flip(b) # Row and column both order has been changed"
   ]
  },
  {
   "cell_type": "code",
   "execution_count": 46,
   "id": "d7b2c4ff-c9eb-4e1c-be54-5b643acf959f",
   "metadata": {},
   "outputs": [
    {
     "data": {
      "text/plain": [
       "array([[44, 21, 47, 41],\n",
       "       [34,  8, 70, 47],\n",
       "       [ 2, 64, 75, 62],\n",
       "       [73, 87, 34, 33],\n",
       "       [44, 72, 14, 14],\n",
       "       [88, 21, 52, 83]])"
      ]
     },
     "execution_count": 46,
     "metadata": {},
     "output_type": "execute_result"
    }
   ],
   "source": [
    "np.flip(b,axis=0) # only row"
   ]
  },
  {
   "cell_type": "markdown",
   "id": "97533ebf-bfe2-4488-bb4c-6c534b1f87e1",
   "metadata": {},
   "source": [
    "## np.put\n",
    "- jkuno array te any place ba index a value permanently change ba replace kore"
   ]
  },
  {
   "cell_type": "code",
   "execution_count": 47,
   "id": "ab5c2371-3e60-45bf-86d2-d818fde22551",
   "metadata": {},
   "outputs": [
    {
     "data": {
      "text/plain": [
       "array([82, 30, 62, 92,  3, 24, 87, 87, 99, 21, 48, 22, 61, 20, 34])"
      ]
     },
     "execution_count": 47,
     "metadata": {},
     "output_type": "execute_result"
    }
   ],
   "source": [
    "a\n"
   ]
  },
  {
   "cell_type": "code",
   "execution_count": 48,
   "id": "b0695ea5-eab4-4b2b-9560-900a9f0ed546",
   "metadata": {},
   "outputs": [],
   "source": [
    "np.put(a,[2,5],[630,500])"
   ]
  },
  {
   "cell_type": "code",
   "execution_count": 49,
   "id": "bc74eb28-8534-4758-9ed1-69ab1c63021c",
   "metadata": {},
   "outputs": [
    {
     "data": {
      "text/plain": [
       "array([ 82,  30, 630,  92,   3, 500,  87,  87,  99,  21,  48,  22,  61,\n",
       "        20,  34])"
      ]
     },
     "execution_count": 49,
     "metadata": {},
     "output_type": "execute_result"
    }
   ],
   "source": [
    "a"
   ]
  },
  {
   "cell_type": "markdown",
   "id": "41232429-2fe1-42c5-9929-8fc45cc2c176",
   "metadata": {},
   "source": [
    "## np.delete\n",
    "- Can delete temporary\n",
    "- jokhon run korle output ashbe tokhon temporary\n",
    "- multiple item delete kora jay"
   ]
  },
  {
   "cell_type": "code",
   "execution_count": 50,
   "id": "ca2b6ea7-c37b-41d4-82bb-d2f2064ff602",
   "metadata": {},
   "outputs": [
    {
     "data": {
      "text/plain": [
       "array([ 82,  30, 630,  92,   3, 500,  87,  87,  99,  21,  48,  22,  61,\n",
       "        20,  34])"
      ]
     },
     "execution_count": 50,
     "metadata": {},
     "output_type": "execute_result"
    }
   ],
   "source": [
    "a\n"
   ]
  },
  {
   "cell_type": "code",
   "execution_count": 51,
   "id": "f288e0ce-f4c4-439b-9613-7f38ff1817d5",
   "metadata": {},
   "outputs": [
    {
     "data": {
      "text/plain": [
       "array([ 82,  30, 630,   3, 500,  87,  87,  99,  21,  48,  22,  61,  20,\n",
       "        34])"
      ]
     },
     "execution_count": 51,
     "metadata": {},
     "output_type": "execute_result"
    }
   ],
   "source": [
    "np.delete(a,3)"
   ]
  },
  {
   "cell_type": "code",
   "execution_count": 52,
   "id": "d21cd4cf-6440-49bc-a4f2-7648295506da",
   "metadata": {},
   "outputs": [
    {
     "data": {
      "text/plain": [
       "array([ 82,  30, 630,  92,   3, 500,  87,  87,  99,  21,  48,  22,  61,\n",
       "        20,  34])"
      ]
     },
     "execution_count": 52,
     "metadata": {},
     "output_type": "execute_result"
    }
   ],
   "source": [
    "a\n"
   ]
  },
  {
   "cell_type": "code",
   "execution_count": 53,
   "id": "aa9b0938-722a-43c7-b632-1f5a51d5a9f2",
   "metadata": {},
   "outputs": [
    {
     "data": {
      "text/plain": [
       "array([ 30, 630,   3,  87,  87,  99,  21,  48,  22,  61,  20,  34])"
      ]
     },
     "execution_count": 53,
     "metadata": {},
     "output_type": "execute_result"
    }
   ],
   "source": [
    "np.delete(a,[0,3,5])"
   ]
  },
  {
   "cell_type": "markdown",
   "id": "88741292-bf00-4f6b-bffa-3bd528cf440f",
   "metadata": {},
   "source": [
    "## Set functions\n",
    "- np.union1d\n",
    "- np.intersect1d\n",
    "- np.setdiff1d\n",
    "- np.setxor1d\n",
    "- np.in1d"
   ]
  },
  {
   "cell_type": "code",
   "execution_count": 54,
   "id": "aabe870b-c0b3-41cf-a041-d1d1094081a6",
   "metadata": {},
   "outputs": [
    {
     "data": {
      "text/plain": [
       "array([1, 2, 3, 4, 5, 6, 7])"
      ]
     },
     "execution_count": 54,
     "metadata": {},
     "output_type": "execute_result"
    }
   ],
   "source": [
    "m = np.array([1,2,3,4,5])\n",
    "n = np.array([3,4,5,6,7])\n",
    "\n",
    "np.union1d(m,n)"
   ]
  },
  {
   "cell_type": "code",
   "execution_count": 55,
   "id": "e45db529-be0c-4264-9afa-03a6351fe16a",
   "metadata": {},
   "outputs": [
    {
     "data": {
      "text/plain": [
       "array([3, 4, 5])"
      ]
     },
     "execution_count": 55,
     "metadata": {},
     "output_type": "execute_result"
    }
   ],
   "source": [
    "np.intersect1d(m,n)"
   ]
  },
  {
   "cell_type": "code",
   "execution_count": 56,
   "id": "e9ae0b98-aef5-4d9c-8978-801e17c50166",
   "metadata": {},
   "outputs": [
    {
     "data": {
      "text/plain": [
       "array([6, 7])"
      ]
     },
     "execution_count": 56,
     "metadata": {},
     "output_type": "execute_result"
    }
   ],
   "source": [
    "np.setdiff1d(n,m)"
   ]
  },
  {
   "cell_type": "code",
   "execution_count": 57,
   "id": "ce1f162a-07cf-442e-81d5-e1138056b1f8",
   "metadata": {},
   "outputs": [
    {
     "data": {
      "text/plain": [
       "array([1, 2, 6, 7])"
      ]
     },
     "execution_count": 57,
     "metadata": {},
     "output_type": "execute_result"
    }
   ],
   "source": [
    "np.setxor1d(m,n) # common gula baade sobgula"
   ]
  },
  {
   "cell_type": "code",
   "execution_count": 58,
   "id": "6d341111-9e46-4104-a269-08ca7fdd607c",
   "metadata": {},
   "outputs": [
    {
     "data": {
      "text/plain": [
       "array([1])"
      ]
     },
     "execution_count": 58,
     "metadata": {},
     "output_type": "execute_result"
    }
   ],
   "source": [
    "m[np.in1d(m,1)] # given number ache ki na where 1 is a element"
   ]
  },
  {
   "cell_type": "markdown",
   "id": "9cce0b58-546f-4ad8-939e-696cec239182",
   "metadata": {},
   "source": [
    "## np.clip \n",
    "- ekta range a rakhe value-gula\n",
    "- suppose ami chai amr value gula jeno 25 theke 75 er modde hoy .j gula 25 theke chuto oigula 25 dara replace hobe and Boro value 75 dara"
   ]
  },
  {
   "cell_type": "code",
   "execution_count": 59,
   "id": "8bc376aa-73ed-4315-b7cc-6f8e39d5ca84",
   "metadata": {},
   "outputs": [
    {
     "data": {
      "text/plain": [
       "array([ 82,  30, 630,  92,   3, 500,  87,  87,  99,  21,  48,  22,  61,\n",
       "        20,  34])"
      ]
     },
     "execution_count": 59,
     "metadata": {},
     "output_type": "execute_result"
    }
   ],
   "source": [
    "a"
   ]
  },
  {
   "cell_type": "code",
   "execution_count": 60,
   "id": "fd539ff6-c719-48b5-851d-0459062feb1a",
   "metadata": {},
   "outputs": [
    {
     "data": {
      "text/plain": [
       "array([75, 30, 75, 75, 25, 75, 75, 75, 75, 25, 48, 25, 61, 25, 34])"
      ]
     },
     "execution_count": 60,
     "metadata": {},
     "output_type": "execute_result"
    }
   ],
   "source": [
    "np.clip(a,a_min=25,a_max=75)"
   ]
  },
  {
   "cell_type": "code",
   "execution_count": 61,
   "id": "514b34c5-7732-4b91-84ba-67611998b798",
   "metadata": {},
   "outputs": [
    {
     "ename": "",
     "evalue": "",
     "output_type": "error",
     "traceback": [
      "\u001b[1;31mThe Kernel crashed while executing code in the current cell or a previous cell. \n",
      "\u001b[1;31mPlease review the code in the cell(s) to identify a possible cause of the failure. \n",
      "\u001b[1;31mClick <a href='https://aka.ms/vscodeJupyterKernelCrash'>here</a> for more info. \n",
      "\u001b[1;31mView Jupyter <a href='command:jupyter.viewOutput'>log</a> for further details."
     ]
    }
   ],
   "source": [
    "## 19. np.count_nonzero \n",
    "## 17. np.swapaxesa\n",
    "# 18. np.uniform"
   ]
  }
 ],
 "metadata": {
  "kernelspec": {
   "display_name": "Python 3 (ipykernel)",
   "language": "python",
   "name": "python3"
  },
  "language_info": {
   "codemirror_mode": {
    "name": "ipython",
    "version": 3
   },
   "file_extension": ".py",
   "mimetype": "text/x-python",
   "name": "python",
   "nbconvert_exporter": "python",
   "pygments_lexer": "ipython3",
   "version": "3.12.4"
  }
 },
 "nbformat": 4,
 "nbformat_minor": 5
}
