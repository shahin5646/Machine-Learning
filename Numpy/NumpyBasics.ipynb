{
 "cells": [
  {
   "cell_type": "markdown",
   "id": "6ed74067-e0eb-4b0b-95ec-527916ed5788",
   "metadata": {},
   "source": [
    "###  What is numpy?\n",
    "\n",
    "NumPy is the fundamental package for scientific computing in Python. It is a Python library that provides a multidimensional array object, various derived objects (such as masked arrays and matrices), and an assortment of routines for fast operations on arrays, including mathematical, logical, shape manipulation, sorting, selecting, I/O, discrete Fourier transforms, basic linear algebra, basic statistical operations, random simulation and much more.\n",
    "\n",
    "\n",
    "At the core of the NumPy package, is the ndarray object. This encapsulates n-dimensional arrays of homogeneous data types arrays."
   ]
  },
  {
   "cell_type": "markdown",
   "id": "a8178ebf-2ec6-48e1-a6a6-f760026c1592",
   "metadata": {},
   "source": [
    "### Numpy Arrays Vs Python Sequences\n",
    "\n",
    "- NumPy arrays have a fixed size at creation, unlike Python lists (which can grow dynamically). Changing the size of an ndarray will create a new array and delete the original.\n",
    "\n",
    "- The elements in a NumPy array are all required to be of the same data type, and thus will be the same size in memory.\n",
    "\n",
    "- NumPy arrays facilitate advanced mathematical and other types of operations on large numbers of data. Typically, such operations are executed more efficiently and with less code than is possible using Python’s built-in sequences.\n",
    "\n",
    "- A growing plethora of scientific and mathematical Python-based packages are using NumPy arrays; though these typically support Python-sequence input, they convert such input to NumPy arrays prior to processing, and they often output NumPy arrays."
   ]
  },
  {
   "cell_type": "markdown",
   "id": "96acd592-6980-4687-a858-aa0c3d243b36",
   "metadata": {},
   "source": [
    "## Creating a Numpy Array"
   ]
  },
  {
   "cell_type": "code",
   "execution_count": 1,
   "id": "5449e021-75ec-4bf2-afd8-5b9cd2721125",
   "metadata": {},
   "outputs": [
    {
     "name": "stdout",
     "output_type": "stream",
     "text": [
      "[ 14  15  85 856]\n"
     ]
    }
   ],
   "source": [
    "import numpy as np\n",
    "numArr = np.array([14,15,85,856])\n",
    "print(numArr)"
   ]
  },
  {
   "cell_type": "markdown",
   "id": "2a7be9c0-ebe3-4011-9cf0-df58ea6156ec",
   "metadata": {},
   "source": [
    "###### Creating 2D Array"
   ]
  },
  {
   "cell_type": "code",
   "execution_count": 2,
   "id": "18e1a55f-5291-4b15-af2d-39b93cabd2a2",
   "metadata": {},
   "outputs": [
    {
     "name": "stdout",
     "output_type": "stream",
     "text": [
      "[[ 56  69  54  35]\n",
      " [856  45  86 858]]\n"
     ]
    }
   ],
   "source": [
    "# Array MUst be HOMOGENOUS\n",
    "numArr_02 = np.array([[56,69,54,35],[856,45,86,858]])\n",
    "print(numArr_02)"
   ]
  },
  {
   "cell_type": "markdown",
   "id": "03f24c7d-20f3-4e94-892c-d4aa41a51427",
   "metadata": {},
   "source": [
    "##### 3D Array"
   ]
  },
  {
   "cell_type": "code",
   "execution_count": 3,
   "id": "a47ebf26-b46d-4e35-97bb-01ccaabb5528",
   "metadata": {},
   "outputs": [
    {
     "name": "stdout",
     "output_type": "stream",
     "text": [
      "3\n",
      "[[[ 5  6 85]\n",
      "  [ 8  9 56]\n",
      "  [ 8 56 58]\n",
      "  [ 5  6 85]]]\n"
     ]
    }
   ],
   "source": [
    "ar_o3 = np.array([[[5,6,85],[8,9,56],[8,56,58],[5,6,85]]])\n",
    "print(ar_o3.ndim)  #Checking Dimension\n",
    "print(ar_o3)"
   ]
  },
  {
   "cell_type": "code",
   "execution_count": 4,
   "id": "205f33c3-dfc5-4192-9ae9-683e7a7cae64",
   "metadata": {},
   "outputs": [
    {
     "data": {
      "text/plain": [
       "array([ 1.,  9.,  8., 45.,  5.])"
      ]
     },
     "execution_count": 4,
     "metadata": {},
     "output_type": "execute_result"
    }
   ],
   "source": [
    "#Creating Specific DataType Array\n",
    "\n",
    "np.array([1,9,8,45,5],dtype = float)\n",
    "\n"
   ]
  },
  {
   "cell_type": "markdown",
   "id": "6f9ca74e-a8b9-4f23-b272-ff4732bdd33e",
   "metadata": {},
   "source": [
    "##### Arange use\n",
    "- work as similar as range\n",
    "- can be used almost similar way like the range "
   ]
  },
  {
   "cell_type": "code",
   "execution_count": 5,
   "id": "50a78066-5f9e-404d-a8ef-2459551aea96",
   "metadata": {},
   "outputs": [
    {
     "name": "stdout",
     "output_type": "stream",
     "text": [
      "[ 1  2  3  4  5  6  7  8  9 10 11]\n",
      "[1 3 5 7 9]\n"
     ]
    }
   ],
   "source": [
    "# arange it works similer like range \n",
    "\n",
    "ar_04=np.arange(1,12)\n",
    "print(ar_04)\n",
    "\n",
    "#Another Like the gap values \n",
    "array_5 = np.arange(1,11,2)\n",
    "print(array_5)"
   ]
  },
  {
   "cell_type": "code",
   "execution_count": 6,
   "id": "f69a949c-a4f6-40a7-bf06-0cc26230ee01",
   "metadata": {},
   "outputs": [
    {
     "data": {
      "text/plain": [
       "array([[ 1,  2],\n",
       "       [ 3,  4],\n",
       "       [ 5,  6],\n",
       "       [ 7,  8],\n",
       "       [ 9, 10]])"
      ]
     },
     "execution_count": 6,
     "metadata": {},
     "output_type": "execute_result"
    }
   ],
   "source": [
    "# Reshape \n",
    "# total items should be equal to the product of 2 items in reshape\n",
    "#Example: Given 1 to 10 .we must choose using the product of the total elements either (2,5) or (5,2)\n",
    "np.arange(1,11).reshape(5,2)"
   ]
  },
  {
   "cell_type": "markdown",
   "id": "05fac84f-60ed-4218-a9fd-d06f21b744b5",
   "metadata": {},
   "source": [
    "##### Using np.ones & np.zeros\n"
   ]
  },
  {
   "cell_type": "code",
   "execution_count": 7,
   "id": "78e512e0-3349-40e8-bdbe-3854859bc3d7",
   "metadata": {},
   "outputs": [
    {
     "data": {
      "text/plain": [
       "array([[1., 1., 1., 1.],\n",
       "       [1., 1., 1., 1.],\n",
       "       [1., 1., 1., 1.]])"
      ]
     },
     "execution_count": 7,
     "metadata": {},
     "output_type": "execute_result"
    }
   ],
   "source": [
    "np.ones((3,4))"
   ]
  },
  {
   "cell_type": "code",
   "execution_count": 8,
   "id": "6858dc9b-d292-4f57-bfa4-691792c4f60d",
   "metadata": {},
   "outputs": [
    {
     "data": {
      "text/plain": [
       "array([[0., 0., 0.],\n",
       "       [0., 0., 0.],\n",
       "       [0., 0., 0.]])"
      ]
     },
     "execution_count": 8,
     "metadata": {},
     "output_type": "execute_result"
    }
   ],
   "source": [
    "#np.zeros\n",
    "np.zeros((3,3))"
   ]
  },
  {
   "cell_type": "code",
   "execution_count": 9,
   "id": "7f8c80e1-f7b0-4bab-b968-de4c9c6db32c",
   "metadata": {},
   "outputs": [
    {
     "data": {
      "text/plain": [
       "array([[0.71122054, 0.88109249, 0.92439959, 0.17684028],\n",
       "       [0.17383798, 0.66446585, 0.29300626, 0.90154915],\n",
       "       [0.71954327, 0.84096889, 0.60013074, 0.77486904],\n",
       "       [0.46495515, 0.66694557, 0.97105674, 0.93364427]])"
      ]
     },
     "execution_count": 9,
     "metadata": {},
     "output_type": "execute_result"
    }
   ],
   "source": [
    "# np.random it will generate random numbers in between 0 to 1\n",
    "np.random.random((4,4))"
   ]
  },
  {
   "cell_type": "markdown",
   "id": "9c9b33ff-f59b-43e6-bfbf-3b4b9ec8186d",
   "metadata": {},
   "source": [
    "##### linspace\n",
    "- it takes 3 parameter\n",
    "- e.g np.linspace((-10,15,10))\n",
    "- first parameter(-10) = lower limits,  \n",
    "  second parameter(15) = upper limits,  \n",
    "  Third parameter(10) = How many numbers you want\n",
    "\n",
    "- It will generate number between similar distance.Any two numbers distance/difference will be equal\n"
   ]
  },
  {
   "cell_type": "code",
   "execution_count": 10,
   "id": "5f332260-4b5e-4158-aaff-e48dd8e59035",
   "metadata": {},
   "outputs": [
    {
     "data": {
      "text/plain": [
       "array([-10.        ,  -7.22222222,  -4.44444444,  -1.66666667,\n",
       "         1.11111111,   3.88888889,   6.66666667,   9.44444444,\n",
       "        12.22222222,  15.        ])"
      ]
     },
     "execution_count": 10,
     "metadata": {},
     "output_type": "execute_result"
    }
   ],
   "source": [
    "np.linspace(-10,15,10)\n",
    "\n",
    "#custom_size = np.linspace(-10,15,10).reshape(5,2)\n",
    "#print(custom_size)"
   ]
  },
  {
   "cell_type": "markdown",
   "id": "608c4975-fe03-40e9-9ff8-ed16e3f0e750",
   "metadata": {},
   "source": [
    "##### creating Identity Matrix"
   ]
  },
  {
   "cell_type": "code",
   "execution_count": 11,
   "id": "147ee9d0-fb2c-4d01-9946-9352a17e884a",
   "metadata": {},
   "outputs": [
    {
     "data": {
      "text/plain": [
       "array([[1., 0., 0., 0.],\n",
       "       [0., 1., 0., 0.],\n",
       "       [0., 0., 1., 0.],\n",
       "       [0., 0., 0., 1.]])"
      ]
     },
     "execution_count": 11,
     "metadata": {},
     "output_type": "execute_result"
    }
   ],
   "source": [
    "np.identity(4)"
   ]
  },
  {
   "cell_type": "markdown",
   "id": "faeb20e9-97c5-47ab-aee2-27d574963883",
   "metadata": {},
   "source": [
    "# Array Attributes\n"
   ]
  },
  {
   "cell_type": "markdown",
   "id": "36b6cd92-dff1-4cd6-9333-1e2194c15932",
   "metadata": {},
   "source": [
    "## Important Notes About reshape(2,2,2)\n",
    "#### The reshape function is used to change the shape of an array without changing its data. The reshape(2, 2, 2) command reshapes an array into a 3-dimensional array with dimensions 2x2x2 \n",
    "- The first argument 2 specifies that the reshaped array will have 2 blocks.\n",
    "- The second argument 2 specifies that each block will have 2 rows.\n",
    "- The third argument 2 specifies that each row will have 2 columns.\n",
    "### Caution\n",
    "\n",
    "- The total number of elements in the original array must match the total number of elements in the reshaped array. For example, in this case, 2 * 2 * 2 = 8, which matches the 8 elements in the original array.\n",
    "- If the dimensions do not match, NumPy will raise an error."
   ]
  },
  {
   "cell_type": "code",
   "execution_count": 12,
   "id": "b6e88db8-9625-4210-bcff-a4239ca98afb",
   "metadata": {},
   "outputs": [
    {
     "data": {
      "text/plain": [
       "2"
      ]
     },
     "execution_count": 12,
     "metadata": {},
     "output_type": "execute_result"
    }
   ],
   "source": [
    "#ndim\n",
    "a1 = np.arange(10)\n",
    "a2 = np.arange(9).reshape(3,3)\n",
    "a3 = np.arange(8,dtype=float).reshape(2,2,2)\n",
    "a2.ndim\n"
   ]
  },
  {
   "cell_type": "code",
   "execution_count": 13,
   "id": "63ff96af-113c-45fd-96f0-c17e6d87df06",
   "metadata": {},
   "outputs": [
    {
     "data": {
      "text/plain": [
       "8"
      ]
     },
     "execution_count": 13,
     "metadata": {},
     "output_type": "execute_result"
    }
   ],
   "source": [
    "a3.itemsize"
   ]
  },
  {
   "cell_type": "code",
   "execution_count": 14,
   "id": "ba34054b-4bee-498d-bbe3-8464e9b2907f",
   "metadata": {},
   "outputs": [
    {
     "name": "stdout",
     "output_type": "stream",
     "text": [
      "int32\n",
      "int32\n",
      "float64\n"
     ]
    }
   ],
   "source": [
    "#dtype\n",
    "print(a1.dtype)\n",
    "print(a2.dtype)\n",
    "print(a3.dtype)"
   ]
  },
  {
   "cell_type": "markdown",
   "id": "8917d39b-f6af-48e6-a047-a74b9403fd98",
   "metadata": {},
   "source": [
    "##### shape\n",
    "- How many rows and columns\n",
    "- also dimension"
   ]
  },
  {
   "cell_type": "code",
   "execution_count": 15,
   "id": "6fb5996e-e892-4dd6-a8d9-4885db9ac3b2",
   "metadata": {},
   "outputs": [
    {
     "name": "stdout",
     "output_type": "stream",
     "text": [
      "(2, 2, 2)\n"
     ]
    },
    {
     "data": {
      "text/plain": [
       "array([[[0., 1.],\n",
       "        [2., 3.]],\n",
       "\n",
       "       [[4., 5.],\n",
       "        [6., 7.]]])"
      ]
     },
     "execution_count": 15,
     "metadata": {},
     "output_type": "execute_result"
    }
   ],
   "source": [
    "print(a3.shape)\n",
    "a3"
   ]
  },
  {
   "cell_type": "markdown",
   "id": "d6fb035d-b54e-4cc7-a2ea-43682241cd92",
   "metadata": {},
   "source": [
    "##### itemsize\n",
    "- how many bits are taking"
   ]
  },
  {
   "cell_type": "code",
   "execution_count": 16,
   "id": "33df79a7-2f1e-4bdb-82b1-3e95b9c00641",
   "metadata": {},
   "outputs": [
    {
     "data": {
      "text/plain": [
       "4"
      ]
     },
     "execution_count": 16,
     "metadata": {},
     "output_type": "execute_result"
    }
   ],
   "source": [
    "a1.itemsize"
   ]
  },
  {
   "cell_type": "markdown",
   "id": "f62e9d73-9962-415d-89d0-f05a94ad91a4",
   "metadata": {},
   "source": [
    "#### size\n",
    "- total size of the array"
   ]
  },
  {
   "cell_type": "code",
   "execution_count": 17,
   "id": "867dcfd8-417e-4122-8493-cc4d711a1cca",
   "metadata": {},
   "outputs": [
    {
     "name": "stdout",
     "output_type": "stream",
     "text": [
      "[[[0. 1.]\n",
      "  [2. 3.]]\n",
      "\n",
      " [[4. 5.]\n",
      "  [6. 7.]]]\n",
      "8\n"
     ]
    }
   ],
   "source": [
    "print(a3)\n",
    "print(np.size(a3))"
   ]
  },
  {
   "cell_type": "markdown",
   "id": "e6a4e3cc-4054-44b7-bf66-579579e45768",
   "metadata": {},
   "source": [
    "#### astype \n",
    "- jodi kokhono datatype change korte hoy\n",
    "- e.g int64 to int32\n",
    "- reduce size"
   ]
  },
  {
   "cell_type": "code",
   "execution_count": 18,
   "id": "9b78e784-d000-4ce2-a805-8beb47bc79a7",
   "metadata": {},
   "outputs": [
    {
     "data": {
      "text/plain": [
       "array([[[0, 1],\n",
       "        [2, 3]],\n",
       "\n",
       "       [[4, 5],\n",
       "        [6, 7]]], dtype=int64)"
      ]
     },
     "execution_count": 18,
     "metadata": {},
     "output_type": "execute_result"
    }
   ],
   "source": [
    "# astype \n",
    "\n",
    "a3.astype(np.int64)\n"
   ]
  },
  {
   "cell_type": "markdown",
   "id": "905c78bc-069f-4b73-badb-37ff311d31fc",
   "metadata": {},
   "source": [
    "# Array Operation"
   ]
  },
  {
   "cell_type": "markdown",
   "id": "6ea73def-1228-48f0-8c2e-639a3c5f88fc",
   "metadata": {},
   "source": [
    "#### Scaler Operation\n",
    "- matrix er moto \n",
    "-  5 x matrix means prottek element er sathe 5 gun"
   ]
  },
  {
   "cell_type": "code",
   "execution_count": 19,
   "id": "c28d4ef3-cd7e-4b5e-827a-2e3408c97be9",
   "metadata": {},
   "outputs": [
    {
     "name": "stdout",
     "output_type": "stream",
     "text": [
      "[[0 1 2]\n",
      " [3 4 5]\n",
      " [6 7 8]]\n",
      "\n",
      "\n",
      " After Multiplication -> \n",
      "[[ 0  2  4]\n",
      " [ 6  8 10]\n",
      " [12 14 16]]\n"
     ]
    }
   ],
   "source": [
    "print(a2)\n",
    "print(\"\\n\\n After Multiplication -> \")\n",
    "print(a2*2)"
   ]
  },
  {
   "cell_type": "markdown",
   "id": "19755f77-7cde-41cd-a2f9-b2b054d81b4f",
   "metadata": {},
   "source": [
    "#### Relational Operation \n",
    "- Performing relational operation  like < , > , == ,<= etc"
   ]
  },
  {
   "cell_type": "code",
   "execution_count": 20,
   "id": "424f5bb7-a06b-44bb-a5b2-14bd8134f313",
   "metadata": {},
   "outputs": [
    {
     "name": "stdout",
     "output_type": "stream",
     "text": [
      "[[0 1 2]\n",
      " [3 4 5]\n",
      " [6 7 8]]\n",
      "\n",
      "\n",
      " After  -> \n",
      "[[False False False]\n",
      " [False False False]\n",
      " [False False  True]]\n",
      "\n",
      "\n",
      " After : -> \n",
      "[[False False False]\n",
      " [False False  True]\n",
      " [ True  True  True]]\n"
     ]
    }
   ],
   "source": [
    "# Relational\n",
    "print(a2)\n",
    "print(\"\\n\\n After  -> \")\n",
    "print(a2==8)\n",
    "print(\"\\n\\n After : -> \")\n",
    "print(a2 > 4)"
   ]
  },
  {
   "cell_type": "code",
   "execution_count": 21,
   "id": "68f120d6-07be-4f05-9884-f1b3dc470099",
   "metadata": {},
   "outputs": [
    {
     "data": {
      "text/plain": [
       "array([[ 0,  1,  4],\n",
       "       [ 9, 16, 25],\n",
       "       [36, 49, 64]])"
      ]
     },
     "execution_count": 21,
     "metadata": {},
     "output_type": "execute_result"
    }
   ],
   "source": [
    "# Vector Operationa1\n",
    "# a2 + a2\n",
    "a2 * a2\n"
   ]
  },
  {
   "cell_type": "markdown",
   "id": "14088396-ac98-49a0-a06a-5f00eacfaab8",
   "metadata": {},
   "source": [
    "# Array Functions "
   ]
  },
  {
   "cell_type": "markdown",
   "id": "5829df4b-729d-45be-ac87-cb6465b3869b",
   "metadata": {},
   "source": [
    "#### max/min/sum/prod\n",
    "- calculate max/min/prod\n",
    "- axix=0 ->  column; axis = 1 -> row\n",
    "- syntax: np.prod(a2) or  np.max(a2,axis=0 )"
   ]
  },
  {
   "cell_type": "code",
   "execution_count": 22,
   "id": "3b5ea0cc-de9e-435d-833d-ef8d2dba4218",
   "metadata": {},
   "outputs": [
    {
     "name": "stdout",
     "output_type": "stream",
     "text": [
      "[[0 1 2]\n",
      " [3 4 5]\n",
      " [6 7 8]]\n",
      "\n",
      "After operation -> \n",
      "8\n",
      "\n",
      " After operation -> \n",
      "[2 5 8]\n"
     ]
    }
   ],
   "source": [
    "print(a2)\n",
    "print(\"\\nAfter operation -> \")\n",
    "print(np.max(a2)) # higest in whole matrix\n",
    "\n",
    "print(\"\\n After operation -> \")\n",
    "print(np.max(a2, axis=1))\n"
   ]
  },
  {
   "cell_type": "code",
   "execution_count": 23,
   "id": "dc4481cd-ea5e-4331-acee-02880a156b91",
   "metadata": {},
   "outputs": [
    {
     "data": {
      "text/plain": [
       "3.5"
      ]
     },
     "execution_count": 23,
     "metadata": {},
     "output_type": "execute_result"
    }
   ],
   "source": [
    "# mean/median/std/var\n",
    "np.mean(a3) # can perform all"
   ]
  },
  {
   "cell_type": "code",
   "execution_count": 24,
   "id": "ed317e53-2b98-4bee-bc77-b91babce8ee9",
   "metadata": {},
   "outputs": [
    {
     "data": {
      "text/plain": [
       "array([[[ 0.        ,  0.84147098],\n",
       "        [ 0.90929743,  0.14112001]],\n",
       "\n",
       "       [[-0.7568025 , -0.95892427],\n",
       "        [-0.2794155 ,  0.6569866 ]]])"
      ]
     },
     "execution_count": 24,
     "metadata": {},
     "output_type": "execute_result"
    }
   ],
   "source": [
    "# Trigonomatrica\n",
    "np.sin(a3)"
   ]
  },
  {
   "cell_type": "markdown",
   "id": "9c05604d-9e9f-4ad8-8b60-1d4f83a5aac1",
   "metadata": {},
   "source": [
    "#### Dot Product\n",
    "- 1st matrix er column songkha == second matrix er Row songkha\n",
    "- e.g (5,4) * (4*6)"
   ]
  },
  {
   "cell_type": "code",
   "execution_count": 25,
   "id": "270412d3-1c2b-4d95-93c1-e1e2372d8fdb",
   "metadata": {},
   "outputs": [
    {
     "name": "stdout",
     "output_type": "stream",
     "text": [
      "[[53.73925377 22.13439884 19.05309789  5.59094498]\n",
      " [52.31567793 99.46670096 22.08080827 77.56833127]\n",
      " [84.67214765 20.44542339 85.29559377 47.24074512]\n",
      " [55.72561165 79.69062996 67.17548489 61.71259942]\n",
      " [ 2.26669946 16.89345958  5.45775286 94.89646017]]\n",
      "\n",
      " After operation -> \n",
      "\n",
      "[[ 7993.55356703  2245.05144297  3820.84819215  4868.31348475\n",
      "   1440.35456018  5760.13783537]\n",
      " [16586.76959472 11815.0892912  10392.0589639  14880.06405205\n",
      "   5385.53476896  7265.14152814]\n",
      " [15208.07979615  8323.43456182  9145.52720131 13083.09907074\n",
      "   4480.65046242 13781.63479438]\n",
      " [17634.80592058 10903.59530513 11140.74868103 16980.53584022\n",
      "   5236.1154244  10560.24447441]\n",
      " [ 3376.0611055   9935.33719674  4187.53161844  5389.61393339\n",
      "   4128.44614348  2213.11905216]]\n"
     ]
    }
   ],
   "source": [
    "m1 = np.random.random((5,4))*100\n",
    "m2 = np.random.random((4,6))*100\n",
    "print(m1)\n",
    "print(\"\\n After operation -> \\n\")\n",
    "print(np.dot(m1,m2))"
   ]
  },
  {
   "cell_type": "code",
   "execution_count": 26,
   "id": "d139d206-9c7d-440e-8601-064477349516",
   "metadata": {},
   "outputs": [
    {
     "name": "stdout",
     "output_type": "stream",
     "text": [
      "\n",
      " After operation -> \n",
      "[[3.98414372 3.09713291 2.94722971 1.72114832]\n",
      " [3.9572961  4.59982292 3.09470883 4.35115924]\n",
      " [4.43878671 3.01775906 4.4461228  3.85525676]\n",
      " [4.02043986 4.37815201 4.20730837 4.12248811]\n",
      " [0.81832479 2.82692654 1.69703714 4.5527864 ]]\n",
      "\n",
      " After operation -> \n",
      "[[2.18102866e+23 4.10059877e+09 1.88215453e+08 2.67988744e+02]\n",
      " [5.25303435e+22 1.57702784e+43 3.88662990e+09 4.86965554e+33]\n",
      " [5.92442892e+36 7.57416146e+08 1.10511050e+37 3.28393782e+20]\n",
      " [1.58973831e+24 4.06631343e+34 1.49259646e+29 6.33054928e+26]\n",
      " [9.64750621e+00 2.17138222e+07 2.34569721e+02 1.63308580e+41]]\n"
     ]
    }
   ],
   "source": [
    "#log/exp(exponents)\n",
    "\n",
    "print(\"\\n After operation -> \")\n",
    "print(np.log(m1))\n",
    "print(\"\\n After operation -> \")\n",
    "print(np.exp(m1))"
   ]
  },
  {
   "cell_type": "markdown",
   "id": "d3580e0c-757a-4599-9dea-dcf403937142",
   "metadata": {},
   "source": [
    "#### round/floor/ceil\n",
    "- round means nearest value e.g 6.4 = 6 ; 6.9 = 7\n",
    "- floor means previous value 6.9 or 6.5 both considerd 6\n",
    "- ceil means next value 6.9 or 6.5 both considerd as 7\n"
   ]
  },
  {
   "cell_type": "code",
   "execution_count": 27,
   "id": "37998e76-233d-47e3-b578-eac3b7084b22",
   "metadata": {},
   "outputs": [
    {
     "name": "stdout",
     "output_type": "stream",
     "text": [
      "[[53.73925377 22.13439884 19.05309789  5.59094498]\n",
      " [52.31567793 99.46670096 22.08080827 77.56833127]\n",
      " [84.67214765 20.44542339 85.29559377 47.24074512]\n",
      " [55.72561165 79.69062996 67.17548489 61.71259942]\n",
      " [ 2.26669946 16.89345958  5.45775286 94.89646017]]\n",
      "\n",
      " After operation -> \n",
      "[[54. 22. 19.  6.]\n",
      " [52. 99. 22. 78.]\n",
      " [85. 20. 85. 47.]\n",
      " [56. 80. 67. 62.]\n",
      " [ 2. 17.  5. 95.]]\n"
     ]
    }
   ],
   "source": [
    "#round/floor/ceil\n",
    "print(m1)\n",
    "print(\"\\n After operation -> \")\n",
    "print(np.round(m1)) # Same For others"
   ]
  },
  {
   "cell_type": "markdown",
   "id": "74d3efc8-d082-47a8-8097-449afc6dff8f",
   "metadata": {},
   "source": [
    "# Indexing and Slicing"
   ]
  },
  {
   "cell_type": "code",
   "execution_count": 28,
   "id": "9c7109e8-46d1-4ccf-b8f1-15a392b6964d",
   "metadata": {},
   "outputs": [
    {
     "data": {
      "text/plain": [
       "array([[[0, 1],\n",
       "        [2, 3]],\n",
       "\n",
       "       [[4, 5],\n",
       "        [6, 7]]])"
      ]
     },
     "execution_count": 28,
     "metadata": {},
     "output_type": "execute_result"
    }
   ],
   "source": [
    "a1 = np.arange(10)\n",
    "a2 = np.arange(12).reshape(3,4)\n",
    "a3 = np.arange(8).reshape(2,2,2)\n",
    "\n",
    "a3"
   ]
  },
  {
   "cell_type": "code",
   "execution_count": 29,
   "id": "d7bb97ba-5952-4c78-8e62-035423be2e59",
   "metadata": {},
   "outputs": [
    {
     "data": {
      "text/plain": [
       "array([0, 1, 2, 3, 4, 5, 6, 7, 8, 9])"
      ]
     },
     "execution_count": 29,
     "metadata": {},
     "output_type": "execute_result"
    }
   ],
   "source": [
    "# 2D Array slicing\n",
    "\n",
    "a1"
   ]
  },
  {
   "cell_type": "code",
   "execution_count": 30,
   "id": "c66118c8-040e-41c4-8ccb-7b68462c3eee",
   "metadata": {},
   "outputs": [
    {
     "name": "stdout",
     "output_type": "stream",
     "text": [
      "[[ 0  1  2  3]\n",
      " [ 4  5  6  7]\n",
      " [ 8  9 10 11]] \n",
      "\n",
      "4\n"
     ]
    }
   ],
   "source": [
    "print(a2,'\\n')\n",
    "print(a2[1,0])"
   ]
  },
  {
   "cell_type": "code",
   "execution_count": 31,
   "id": "fd1afb90-ad99-476a-b511-4bbe1f729ba4",
   "metadata": {},
   "outputs": [
    {
     "data": {
      "text/plain": [
       "array([[[0, 1],\n",
       "        [2, 3]],\n",
       "\n",
       "       [[4, 5],\n",
       "        [6, 7]]])"
      ]
     },
     "execution_count": 31,
     "metadata": {},
     "output_type": "execute_result"
    }
   ],
   "source": [
    "a3"
   ]
  },
  {
   "cell_type": "code",
   "execution_count": 32,
   "id": "d2eaad52-2c4c-4d8a-a0d2-4b2e65d7e96b",
   "metadata": {},
   "outputs": [
    {
     "data": {
      "text/plain": [
       "5"
      ]
     },
     "execution_count": 32,
     "metadata": {},
     "output_type": "execute_result"
    }
   ],
   "source": [
    "a3[1,0,1]"
   ]
  },
  {
   "cell_type": "code",
   "execution_count": 33,
   "id": "21825d44-7154-4503-9f7d-ab47ea5ba9d3",
   "metadata": {},
   "outputs": [
    {
     "data": {
      "text/plain": [
       "6"
      ]
     },
     "execution_count": 33,
     "metadata": {},
     "output_type": "execute_result"
    }
   ],
   "source": [
    "a3[1,1,0]"
   ]
  },
  {
   "cell_type": "code",
   "execution_count": 34,
   "id": "e6ba88ea-e273-4434-81f2-3739f2b08fd9",
   "metadata": {},
   "outputs": [
    {
     "data": {
      "text/plain": [
       "array([2, 4])"
      ]
     },
     "execution_count": 34,
     "metadata": {},
     "output_type": "execute_result"
    }
   ],
   "source": [
    "a1[2:5:2]"
   ]
  },
  {
   "cell_type": "code",
   "execution_count": 35,
   "id": "a61be0f3-be0a-47a8-86ae-59719ee99fb7",
   "metadata": {},
   "outputs": [
    {
     "data": {
      "text/plain": [
       "array([[ 0,  1,  2,  3],\n",
       "       [ 4,  5,  6,  7],\n",
       "       [ 8,  9, 10, 11]])"
      ]
     },
     "execution_count": 35,
     "metadata": {},
     "output_type": "execute_result"
    }
   ],
   "source": [
    "a2"
   ]
  },
  {
   "cell_type": "code",
   "execution_count": 36,
   "id": "62ff4650-9957-4a9e-ae33-4ad3f69d4b9b",
   "metadata": {},
   "outputs": [],
   "source": [
    "#Slicing\n"
   ]
  },
  {
   "cell_type": "code",
   "execution_count": 37,
   "id": "f64b5f34-bf40-40e7-a55f-912d9ce062de",
   "metadata": {},
   "outputs": [
    {
     "data": {
      "text/plain": [
       "array([[ 1,  3],\n",
       "       [ 9, 11]])"
      ]
     },
     "execution_count": 37,
     "metadata": {},
     "output_type": "execute_result"
    }
   ],
   "source": [
    "a2[::2,1::2]"
   ]
  },
  {
   "cell_type": "code",
   "execution_count": 38,
   "id": "2910684d-36b0-4c2e-a345-065c2f7a13eb",
   "metadata": {},
   "outputs": [
    {
     "data": {
      "text/plain": [
       "array([ 8, 11])"
      ]
     },
     "execution_count": 38,
     "metadata": {},
     "output_type": "execute_result"
    }
   ],
   "source": [
    "a2[2,::3]"
   ]
  },
  {
   "cell_type": "code",
   "execution_count": 39,
   "id": "492059ac-8b53-482d-bc24-8122cd1e7086",
   "metadata": {},
   "outputs": [
    {
     "data": {
      "text/plain": [
       "array([[1, 2, 3],\n",
       "       [5, 6, 7]])"
      ]
     },
     "execution_count": 39,
     "metadata": {},
     "output_type": "execute_result"
    }
   ],
   "source": [
    "a2[:2,1:]"
   ]
  },
  {
   "cell_type": "code",
   "execution_count": 40,
   "id": "a2ec171c-d072-4394-b9c4-524745d786fd",
   "metadata": {},
   "outputs": [
    {
     "name": "stdout",
     "output_type": "stream",
     "text": [
      "[[[ 0  1  2]\n",
      "  [ 3  4  5]\n",
      "  [ 6  7  8]]\n",
      "\n",
      " [[ 9 10 11]\n",
      "  [12 13 14]\n",
      "  [15 16 17]]\n",
      "\n",
      " [[18 19 20]\n",
      "  [21 22 23]\n",
      "  [24 25 26]]]\n"
     ]
    }
   ],
   "source": [
    "a3=np.arange(27).reshape(3,3,3)\n",
    "print(a3)"
   ]
  },
  {
   "cell_type": "code",
   "execution_count": 41,
   "id": "4d900142-d163-47eb-af4c-e7bee779e5e5",
   "metadata": {},
   "outputs": [
    {
     "data": {
      "text/plain": [
       "array([[ 9, 10, 11],\n",
       "       [12, 13, 14],\n",
       "       [15, 16, 17]])"
      ]
     },
     "execution_count": 41,
     "metadata": {},
     "output_type": "execute_result"
    }
   ],
   "source": [
    "a3[1,:]"
   ]
  },
  {
   "cell_type": "code",
   "execution_count": 42,
   "id": "b6f22b38-fd7b-4e13-872f-ce11f16968e4",
   "metadata": {},
   "outputs": [
    {
     "data": {
      "text/plain": [
       "array([[[ 0,  1,  2],\n",
       "        [ 3,  4,  5],\n",
       "        [ 6,  7,  8]],\n",
       "\n",
       "       [[18, 19, 20],\n",
       "        [21, 22, 23],\n",
       "        [24, 25, 26]]])"
      ]
     },
     "execution_count": 42,
     "metadata": {},
     "output_type": "execute_result"
    }
   ],
   "source": [
    "a3[::2]"
   ]
  },
  {
   "cell_type": "code",
   "execution_count": 43,
   "id": "f2ea0666-009c-45e4-aec6-35ac4e20cf44",
   "metadata": {},
   "outputs": [
    {
     "data": {
      "text/plain": [
       "array([3, 4, 5])"
      ]
     },
     "execution_count": 43,
     "metadata": {},
     "output_type": "execute_result"
    }
   ],
   "source": [
    "a3[0,1]"
   ]
  },
  {
   "cell_type": "code",
   "execution_count": 44,
   "id": "0257d23b-f458-4829-a647-571c99666b4d",
   "metadata": {},
   "outputs": [
    {
     "data": {
      "text/plain": [
       "array([10, 13, 16])"
      ]
     },
     "execution_count": 44,
     "metadata": {},
     "output_type": "execute_result"
    }
   ],
   "source": [
    "a3[1,:,1]"
   ]
  },
  {
   "cell_type": "code",
   "execution_count": 45,
   "id": "5e645233-ee4b-42e9-a7e2-3c0e831a5361",
   "metadata": {},
   "outputs": [
    {
     "data": {
      "text/plain": [
       "array([[ 0,  2],\n",
       "       [18, 20]])"
      ]
     },
     "execution_count": 45,
     "metadata": {},
     "output_type": "execute_result"
    }
   ],
   "source": [
    "a3[0::2,0,::2]"
   ]
  },
  {
   "cell_type": "code",
   "execution_count": 46,
   "id": "02e92925-d4d8-4d6f-9793-ea5939725148",
   "metadata": {},
   "outputs": [
    {
     "data": {
      "text/plain": [
       "array([[ 0,  2],\n",
       "       [18, 20]])"
      ]
     },
     "execution_count": 46,
     "metadata": {},
     "output_type": "execute_result"
    }
   ],
   "source": [
    "a3[::2,0,::2]"
   ]
  },
  {
   "cell_type": "code",
   "execution_count": 47,
   "id": "fe3bb49b-4eaa-441e-9b7b-421240416898",
   "metadata": {},
   "outputs": [
    {
     "data": {
      "text/plain": [
       "array([[22, 23],\n",
       "       [25, 26]])"
      ]
     },
     "execution_count": 47,
     "metadata": {},
     "output_type": "execute_result"
    }
   ],
   "source": [
    "a3[2,1:,1:]"
   ]
  },
  {
   "cell_type": "markdown",
   "id": "df0dd062-3607-4893-8f88-17f2e248c176",
   "metadata": {},
   "source": [
    "# Iterating"
   ]
  },
  {
   "cell_type": "code",
   "execution_count": 48,
   "id": "9eb5301d-ae04-4b44-9dae-9ad23469376e",
   "metadata": {},
   "outputs": [
    {
     "name": "stdout",
     "output_type": "stream",
     "text": [
      "0\n",
      "1\n",
      "2\n",
      "3\n",
      "4\n",
      "5\n",
      "6\n",
      "7\n",
      "8\n",
      "9\n"
     ]
    }
   ],
   "source": [
    "# a1 it print the full 1D array\n",
    "\n",
    "for i in a1:\n",
    "    print(i)"
   ]
  },
  {
   "cell_type": "code",
   "execution_count": 49,
   "id": "fc40e2f0-253d-471b-84dc-6a0def486ac3",
   "metadata": {},
   "outputs": [
    {
     "name": "stdout",
     "output_type": "stream",
     "text": [
      "[[ 0  1  2  3]\n",
      " [ 4  5  6  7]\n",
      " [ 8  9 10 11]] \n",
      "\n",
      "\n",
      "[0 1 2 3]\n",
      "[4 5 6 7]\n",
      "[ 8  9 10 11]\n"
     ]
    }
   ],
   "source": [
    "print(a2,\"\\n\\n\")\n",
    "\n",
    "for i in a2:\n",
    "    print(i)\n",
    "\n",
    "# This Loop print row-wise"
   ]
  },
  {
   "cell_type": "code",
   "execution_count": 50,
   "id": "8bffe2f7-a8b6-4984-850d-0c613b070f20",
   "metadata": {},
   "outputs": [
    {
     "name": "stdout",
     "output_type": "stream",
     "text": [
      "[[[ 0  1  2]\n",
      "  [ 3  4  5]\n",
      "  [ 6  7  8]]\n",
      "\n",
      " [[ 9 10 11]\n",
      "  [12 13 14]\n",
      "  [15 16 17]]\n",
      "\n",
      " [[18 19 20]\n",
      "  [21 22 23]\n",
      "  [24 25 26]]] \n",
      "\n",
      "\n",
      "[[0 1 2]\n",
      " [3 4 5]\n",
      " [6 7 8]]\n",
      "[[ 9 10 11]\n",
      " [12 13 14]\n",
      " [15 16 17]]\n",
      "[[18 19 20]\n",
      " [21 22 23]\n",
      " [24 25 26]]\n"
     ]
    }
   ],
   "source": [
    "print(a3,\"\\n\\n\")\n",
    "\n",
    "for i in a3:\n",
    "    print(i)\n",
    "\n",
    "# Each iteration Print a 2D ARRAY"
   ]
  },
  {
   "cell_type": "code",
   "execution_count": 51,
   "id": "9112bac6-bb1d-4673-be77-a376d7833ac6",
   "metadata": {},
   "outputs": [
    {
     "name": "stdout",
     "output_type": "stream",
     "text": [
      "0\n",
      "1\n",
      "2\n",
      "3\n",
      "4\n",
      "5\n",
      "6\n",
      "7\n",
      "8\n",
      "9\n",
      "10\n",
      "11\n",
      "12\n",
      "13\n",
      "14\n",
      "15\n",
      "16\n",
      "17\n",
      "18\n",
      "19\n",
      "20\n",
      "21\n",
      "22\n",
      "23\n",
      "24\n",
      "25\n",
      "26\n"
     ]
    }
   ],
   "source": [
    "# fOr PRINTING EACH ITEM\n",
    "for i in np.nditer(a3):\n",
    "    print(i)"
   ]
  },
  {
   "cell_type": "markdown",
   "id": "96c69e99-cf0a-4ee9-ad8a-3179435db998",
   "metadata": {},
   "source": [
    "# Reshaping"
   ]
  },
  {
   "cell_type": "code",
   "execution_count": 52,
   "id": "271eb539-b1a4-4b05-8203-d6c63dbed3c6",
   "metadata": {},
   "outputs": [
    {
     "name": "stdout",
     "output_type": "stream",
     "text": [
      "[[ 0  1  2  3]\n",
      " [ 4  5  6  7]\n",
      " [ 8  9 10 11]] \n",
      "\n",
      "\n",
      "[[ 0  4  8]\n",
      " [ 1  5  9]\n",
      " [ 2  6 10]\n",
      " [ 3  7 11]]\n",
      "[[ 0  1  2  3]\n",
      " [ 4  5  6  7]\n",
      " [ 8  9 10 11]] \n",
      " Another Syntex ->\n",
      "[[ 0  4  8]\n",
      " [ 1  5  9]\n",
      " [ 2  6 10]\n",
      " [ 3  7 11]]\n"
     ]
    }
   ],
   "source": [
    "#Transpose\n",
    "\n",
    "print(a2,'\\n\\n')\n",
    "print(a2.T)\n",
    "print(a2,'\\n Another Syntex ->')\n",
    "print(np.transpose(a2))"
   ]
  },
  {
   "cell_type": "code",
   "execution_count": 53,
   "id": "0924b2d3-050a-429e-ac3d-c12be0b3df4c",
   "metadata": {},
   "outputs": [
    {
     "data": {
      "text/plain": [
       "array([ 0,  1,  2,  3,  4,  5,  6,  7,  8,  9, 10, 11])"
      ]
     },
     "execution_count": 53,
     "metadata": {},
     "output_type": "execute_result"
    }
   ],
   "source": [
    "#### ravel can convert any array into 1D Arraya1\n",
    "a2\n",
    "a2.ravel()"
   ]
  },
  {
   "cell_type": "markdown",
   "id": "438b3810-dc1f-43b3-b56d-9478f9ff6a7b",
   "metadata": {},
   "source": [
    "# Stacking"
   ]
  },
  {
   "cell_type": "code",
   "execution_count": 54,
   "id": "459d470a-8622-4c15-9a8f-440dd63721c0",
   "metadata": {},
   "outputs": [
    {
     "data": {
      "text/plain": [
       "array([[12, 13, 14, 15],\n",
       "       [16, 17, 18, 19],\n",
       "       [20, 21, 22, 23]])"
      ]
     },
     "execution_count": 54,
     "metadata": {},
     "output_type": "execute_result"
    }
   ],
   "source": [
    "# horizontal stacking\n",
    "a4 = np.arange(12).reshape(3,4)\n",
    "a5 = np.arange(12,24).reshape(3,4)\n",
    "a5"
   ]
  },
  {
   "cell_type": "code",
   "execution_count": 55,
   "id": "60a98135-939c-4f0c-a5b7-8d5a2563bd62",
   "metadata": {},
   "outputs": [
    {
     "data": {
      "text/plain": [
       "array([[ 0,  1,  2,  3, 12, 13, 14, 15],\n",
       "       [ 4,  5,  6,  7, 16, 17, 18, 19],\n",
       "       [ 8,  9, 10, 11, 20, 21, 22, 23]])"
      ]
     },
     "execution_count": 55,
     "metadata": {},
     "output_type": "execute_result"
    }
   ],
   "source": [
    "# horizontal stacking\n",
    "np.hstack((a4,a5))"
   ]
  },
  {
   "cell_type": "code",
   "execution_count": 56,
   "id": "04c3bfed-65c0-4f7e-b2ae-5e05b02e66d4",
   "metadata": {},
   "outputs": [
    {
     "data": {
      "text/plain": [
       "array([[ 0,  1,  2,  3],\n",
       "       [ 4,  5,  6,  7],\n",
       "       [ 8,  9, 10, 11],\n",
       "       [12, 13, 14, 15],\n",
       "       [16, 17, 18, 19],\n",
       "       [20, 21, 22, 23]])"
      ]
     },
     "execution_count": 56,
     "metadata": {},
     "output_type": "execute_result"
    }
   ],
   "source": [
    "# Vertical stacking\n",
    "np.vstack((a4,a5))"
   ]
  },
  {
   "cell_type": "markdown",
   "id": "805b6e4d-fb05-465c-ad8d-5c533eb28a22",
   "metadata": {},
   "source": [
    "# Splitting"
   ]
  },
  {
   "cell_type": "code",
   "execution_count": 57,
   "id": "7c858b20-d8bd-40bc-9b27-cc9700110bf7",
   "metadata": {},
   "outputs": [
    {
     "data": {
      "text/plain": [
       "[array([[0, 1],\n",
       "        [4, 5],\n",
       "        [8, 9]]),\n",
       " array([[ 2,  3],\n",
       "        [ 6,  7],\n",
       "        [10, 11]])]"
      ]
     },
     "execution_count": 57,
     "metadata": {},
     "output_type": "execute_result"
    }
   ],
   "source": [
    "# Horizontal\n",
    "np.hsplit(a4,2)"
   ]
  },
  {
   "cell_type": "code",
   "execution_count": 58,
   "id": "18d4ac82-acfa-4c6e-8115-3578719ac29a",
   "metadata": {},
   "outputs": [
    {
     "data": {
      "text/plain": [
       "array([[12, 13, 14, 15],\n",
       "       [16, 17, 18, 19],\n",
       "       [20, 21, 22, 23]])"
      ]
     },
     "execution_count": 58,
     "metadata": {},
     "output_type": "execute_result"
    }
   ],
   "source": [
    "# Vertical\n",
    "a5"
   ]
  },
  {
   "cell_type": "code",
   "execution_count": 59,
   "id": "62dc1e6b-bb14-4eeb-bf8c-3965b4bc6d9d",
   "metadata": {},
   "outputs": [
    {
     "data": {
      "text/plain": [
       "[array([[12, 13, 14, 15]]),\n",
       " array([[16, 17, 18, 19]]),\n",
       " array([[20, 21, 22, 23]])]"
      ]
     },
     "execution_count": 59,
     "metadata": {},
     "output_type": "execute_result"
    }
   ],
   "source": [
    "np.vsplit(a5,3)"
   ]
  },
  {
   "cell_type": "code",
   "execution_count": null,
   "id": "5768a9ba-c423-49ea-90d2-e1b348957b92",
   "metadata": {},
   "outputs": [],
   "source": []
  }
 ],
 "metadata": {
  "kernelspec": {
   "display_name": "MLenv",
   "language": "python",
   "name": "python3"
  },
  "language_info": {
   "codemirror_mode": {
    "name": "ipython",
    "version": 3
   },
   "file_extension": ".py",
   "mimetype": "text/x-python",
   "name": "python",
   "nbconvert_exporter": "python",
   "pygments_lexer": "ipython3",
   "version": "3.12.4"
  }
 },
 "nbformat": 4,
 "nbformat_minor": 5
}
